{
 "cells": [
  {
   "cell_type": "markdown",
   "id": "703aabd1-3320-4186-bbcc-39be31489b6c",
   "metadata": {},
   "source": [
    "## An investigative crime comparision between Chicago and Los Angeles\n",
    "\n",
    "*Navigating Urban Realities: A Comprehensive Analysis of Crime Dynamics in Chicago and Los Angeles, Unveiling Patterns, Trends, and Hotspots*\n",
    "\n",
    "### Table of Contents\n",
    "<ul>\n",
    "    <li><a href=\"#intro\">Introduction</a></li>\n",
    "    <li><a href=\"#wrangling\">Data Wrangling</a></li>\n",
    "    <li><a href=\"#chicago_dataset\">Chicago Dataset</a></li>\n",
    "    <li><a href=\"#la_dataset\">Los Angeles Dataset</a></li>\n",
    "    <li><a href=\"#eda\">Exploratory Data Analysis</a></li>\n",
    "    <li><a href=\"#conclusions\">Conclusions</a></li>\n",
    "    <li><a href=\"#limits\">Limitations</a></li>\n",
    "</ul>"
   ]
  },
  {
   "cell_type": "markdown",
   "id": "f446ed87-8be6-43fb-9c12-19f47fd11f44",
   "metadata": {},
   "source": [
    "<a id='intro'></a>\n",
    "## Introduction:\n",
    "\n",
    "In a quest to delve into the intricacies of public safety and law enforcement, this data analysis project sets out to explore crime data from two major cities – Chicago and Los Angeles. By examining patterns, trends, and disparities in crime rates, we aim to contribute valuable insights that can inform discussions on law enforcement strategies, community safety, and policy interventions.\n",
    "\n",
    "### Objectives\n",
    "\n",
    "1. **Crime Rate Comparison:**\n",
    "    - Investigate and compare the overall crime rates between Chicago and Los Angeles over the specified period.\n",
    "\n",
    "2. **Trend Analysis:**\n",
    "\n",
    "    - Uncover trends in specific types of crimes, identifying patterns of increase or decrease over the years.\n",
    "\n",
    "3. **Hotspots:**\n",
    "\n",
    "    - Utilize spatial analysis to identify and map crime hotspots in both cities, discerning areas with consistently high crime rates.\n",
    "\n",
    "### Methodology:\n",
    "\n",
    "Employing a combination of statistical analysis, data visualization techniques, and spatial mapping, this analysis ensures a comprehensive exploration of crime data. The datasets undergo meticulous cleaning, standardization, and thorough examination to establish a robust foundation for investigation. Through time-series analysis, crime category trends, and hotspot mapping, the objective is to extract actionable insights for enhancing public safety.\n",
    "\n",
    "### Significance:\n",
    "\n",
    "This project holds significance in shedding light on crime dynamics, offering a nuanced understanding of patterns and trends in two diverse urban landscapes. By addressing specific objectives related to crime rate comparisons, trend analyses, and hotspot identification, the aim is to provide valuable information for policymakers, law enforcement agencies, and communities to collaboratively work towards safer environments.\n",
    "\n",
    "Our commitment is rooted in delivering a data-driven analysis characterized by integrity, statistical rigor, and a dedication to uncovering insights that contribute to informed decision-making in matters of public safety and law enforcement.\n",
    "\n",
    "To begin the analysis, I will import essential packages, including Pandas, NumPy, and Matplotlib."
   ]
  },
  {
   "cell_type": "code",
   "execution_count": 15,
   "id": "42b9c8bd-2922-4f17-a419-8e71a4dbc251",
   "metadata": {},
   "outputs": [],
   "source": [
    "import pandas as pd\n",
    "import numpy as np\n",
    "import matplotlib.pyplot as plt \n",
    "plt.figure\n",
    "import requests\n",
    "import folium \n",
    "from folium.plugins import HeatMap \n",
    "from IPython.display import IFrame "
   ]
  },
  {
   "cell_type": "markdown",
   "id": "cfb89e48-e7a7-416d-820d-0d33ba2c485d",
   "metadata": {},
   "source": [
    "<a id='wrangling'></a>\n",
    "### Data Wrangling"
   ]
  },
  {
   "cell_type": "markdown",
   "id": "97a28ee5-1e6b-4289-b0b4-a20e0dfa8eeb",
   "metadata": {},
   "source": [
    "Below I will create a versatile function that allows me to inspect essential information from the dataframe, facilitating a comprehensive understanding of the necessary cleaning and manipulation tasks. This function efficiently captures the dataframe's shape, identifies duplicated rows, and provides general information using .info(), minimizing the need for redundant calculations. The resulting variable, named 'display_dataframe_properties,' prints key properties such as shape, duplicated rows count, data types, and missing values for each column."
   ]
  },
  {
   "cell_type": "code",
   "execution_count": 16,
   "id": "eb91d9ca-02a2-4565-8e86-438314c8f312",
   "metadata": {},
   "outputs": [],
   "source": [
    "def display_dataframe_properties(df): \n",
    "    ''' \n",
    "    INPUT: \n",
    "    df (DataFrame) - dataframe to display properties \n",
    "    OUTPUT: \n",
    "    Print key properties of the dataframe: shape, duplicated rows count, \n",
    "    data types, and missing values for each column. \n",
    "    ''' \n",
    "    # Calculate the shape and number of duplicated rows once \n",
    "    shape_info = f'Shape: {df.shape}'\n",
    "    duplicated_info = f'Duplicated rows: {sum(df.duplicated())}'\n",
    "    \n",
    "    # Data types and missing values for each column \n",
    "    info_str = df.info() \n",
    "    \n",
    "    # Print the information \n",
    "    print(shape_info) \n",
    "    print(duplicated_info) \n",
    "    print(info_str) \n",
    "    print('\\n') "
   ]
  },
  {
   "cell_type": "markdown",
   "id": "d2c1ec36-3c7a-4f68-aff9-978aaad26490",
   "metadata": {},
   "source": [
    "<a id='chicago_dataset'></a>\n",
    "##### Lets begin exploring the Chicago dataframe"
   ]
  },
  {
   "cell_type": "code",
   "execution_count": 17,
   "id": "72d33f3c-a7f4-49fc-8429-a7a461ee1e63",
   "metadata": {},
   "outputs": [
    {
     "data": {
      "text/html": [
       "<div>\n",
       "<style scoped>\n",
       "    .dataframe tbody tr th:only-of-type {\n",
       "        vertical-align: middle;\n",
       "    }\n",
       "\n",
       "    .dataframe tbody tr th {\n",
       "        vertical-align: top;\n",
       "    }\n",
       "\n",
       "    .dataframe thead th {\n",
       "        text-align: right;\n",
       "    }\n",
       "</style>\n",
       "<table border=\"1\" class=\"dataframe\">\n",
       "  <thead>\n",
       "    <tr style=\"text-align: right;\">\n",
       "      <th></th>\n",
       "      <th>ID</th>\n",
       "      <th>Case Number</th>\n",
       "      <th>Date</th>\n",
       "      <th>Block</th>\n",
       "      <th>IUCR</th>\n",
       "      <th>Primary Type</th>\n",
       "      <th>Description</th>\n",
       "      <th>Location Description</th>\n",
       "      <th>Arrest</th>\n",
       "      <th>Domestic</th>\n",
       "      <th>...</th>\n",
       "      <th>Community Area</th>\n",
       "      <th>FBI Code</th>\n",
       "      <th>X Coordinate</th>\n",
       "      <th>Y Coordinate</th>\n",
       "      <th>Year</th>\n",
       "      <th>Updated On</th>\n",
       "      <th>Latitude</th>\n",
       "      <th>Longitude</th>\n",
       "      <th>Location</th>\n",
       "      <th>City</th>\n",
       "    </tr>\n",
       "  </thead>\n",
       "  <tbody>\n",
       "    <tr>\n",
       "      <th>0</th>\n",
       "      <td>11037294</td>\n",
       "      <td>JA371270</td>\n",
       "      <td>03/18/2015 12:00:00 PM</td>\n",
       "      <td>0000X W WACKER DR</td>\n",
       "      <td>1153</td>\n",
       "      <td>DECEPTIVE PRACTICE</td>\n",
       "      <td>FINANCIAL IDENTITY THEFT OVER $ 300</td>\n",
       "      <td>BANK</td>\n",
       "      <td>False</td>\n",
       "      <td>False</td>\n",
       "      <td>...</td>\n",
       "      <td>32.0</td>\n",
       "      <td>11</td>\n",
       "      <td>NaN</td>\n",
       "      <td>NaN</td>\n",
       "      <td>2015</td>\n",
       "      <td>08/01/2017 03:52:26 PM</td>\n",
       "      <td>NaN</td>\n",
       "      <td>NaN</td>\n",
       "      <td>NaN</td>\n",
       "      <td>Chicago</td>\n",
       "    </tr>\n",
       "    <tr>\n",
       "      <th>1</th>\n",
       "      <td>11646293</td>\n",
       "      <td>JC213749</td>\n",
       "      <td>12/20/2018 03:00:00 PM</td>\n",
       "      <td>023XX N LOCKWOOD AVE</td>\n",
       "      <td>1154</td>\n",
       "      <td>DECEPTIVE PRACTICE</td>\n",
       "      <td>FINANCIAL IDENTITY THEFT $300 AND UNDER</td>\n",
       "      <td>APARTMENT</td>\n",
       "      <td>False</td>\n",
       "      <td>False</td>\n",
       "      <td>...</td>\n",
       "      <td>19.0</td>\n",
       "      <td>11</td>\n",
       "      <td>NaN</td>\n",
       "      <td>NaN</td>\n",
       "      <td>2018</td>\n",
       "      <td>04/06/2019 04:04:43 PM</td>\n",
       "      <td>NaN</td>\n",
       "      <td>NaN</td>\n",
       "      <td>NaN</td>\n",
       "      <td>Chicago</td>\n",
       "    </tr>\n",
       "    <tr>\n",
       "      <th>2</th>\n",
       "      <td>11645836</td>\n",
       "      <td>JC212333</td>\n",
       "      <td>05/01/2016 12:25:00 AM</td>\n",
       "      <td>055XX S ROCKWELL ST</td>\n",
       "      <td>1153</td>\n",
       "      <td>DECEPTIVE PRACTICE</td>\n",
       "      <td>FINANCIAL IDENTITY THEFT OVER $ 300</td>\n",
       "      <td>NaN</td>\n",
       "      <td>False</td>\n",
       "      <td>False</td>\n",
       "      <td>...</td>\n",
       "      <td>63.0</td>\n",
       "      <td>11</td>\n",
       "      <td>NaN</td>\n",
       "      <td>NaN</td>\n",
       "      <td>2016</td>\n",
       "      <td>04/06/2019 04:04:43 PM</td>\n",
       "      <td>NaN</td>\n",
       "      <td>NaN</td>\n",
       "      <td>NaN</td>\n",
       "      <td>Chicago</td>\n",
       "    </tr>\n",
       "    <tr>\n",
       "      <th>3</th>\n",
       "      <td>11645959</td>\n",
       "      <td>JC211511</td>\n",
       "      <td>12/20/2018 04:00:00 PM</td>\n",
       "      <td>045XX N ALBANY AVE</td>\n",
       "      <td>2820</td>\n",
       "      <td>OTHER OFFENSE</td>\n",
       "      <td>TELEPHONE THREAT</td>\n",
       "      <td>RESIDENCE</td>\n",
       "      <td>False</td>\n",
       "      <td>False</td>\n",
       "      <td>...</td>\n",
       "      <td>14.0</td>\n",
       "      <td>08A</td>\n",
       "      <td>NaN</td>\n",
       "      <td>NaN</td>\n",
       "      <td>2018</td>\n",
       "      <td>04/06/2019 04:04:43 PM</td>\n",
       "      <td>NaN</td>\n",
       "      <td>NaN</td>\n",
       "      <td>NaN</td>\n",
       "      <td>Chicago</td>\n",
       "    </tr>\n",
       "    <tr>\n",
       "      <th>4</th>\n",
       "      <td>11645601</td>\n",
       "      <td>JC212935</td>\n",
       "      <td>06/01/2014 12:01:00 AM</td>\n",
       "      <td>087XX S SANGAMON ST</td>\n",
       "      <td>1153</td>\n",
       "      <td>DECEPTIVE PRACTICE</td>\n",
       "      <td>FINANCIAL IDENTITY THEFT OVER $ 300</td>\n",
       "      <td>RESIDENCE</td>\n",
       "      <td>False</td>\n",
       "      <td>False</td>\n",
       "      <td>...</td>\n",
       "      <td>71.0</td>\n",
       "      <td>11</td>\n",
       "      <td>NaN</td>\n",
       "      <td>NaN</td>\n",
       "      <td>2014</td>\n",
       "      <td>04/06/2019 04:04:43 PM</td>\n",
       "      <td>NaN</td>\n",
       "      <td>NaN</td>\n",
       "      <td>NaN</td>\n",
       "      <td>Chicago</td>\n",
       "    </tr>\n",
       "  </tbody>\n",
       "</table>\n",
       "<p>5 rows × 23 columns</p>\n",
       "</div>"
      ],
      "text/plain": [
       "         ID Case Number                    Date                 Block  IUCR  \\\n",
       "0  11037294    JA371270  03/18/2015 12:00:00 PM     0000X W WACKER DR  1153   \n",
       "1  11646293    JC213749  12/20/2018 03:00:00 PM  023XX N LOCKWOOD AVE  1154   \n",
       "2  11645836    JC212333  05/01/2016 12:25:00 AM   055XX S ROCKWELL ST  1153   \n",
       "3  11645959    JC211511  12/20/2018 04:00:00 PM    045XX N ALBANY AVE  2820   \n",
       "4  11645601    JC212935  06/01/2014 12:01:00 AM   087XX S SANGAMON ST  1153   \n",
       "\n",
       "         Primary Type                              Description  \\\n",
       "0  DECEPTIVE PRACTICE      FINANCIAL IDENTITY THEFT OVER $ 300   \n",
       "1  DECEPTIVE PRACTICE  FINANCIAL IDENTITY THEFT $300 AND UNDER   \n",
       "2  DECEPTIVE PRACTICE      FINANCIAL IDENTITY THEFT OVER $ 300   \n",
       "3       OTHER OFFENSE                         TELEPHONE THREAT   \n",
       "4  DECEPTIVE PRACTICE      FINANCIAL IDENTITY THEFT OVER $ 300   \n",
       "\n",
       "  Location Description  Arrest  Domestic  ...  Community Area  FBI Code  \\\n",
       "0                 BANK   False     False  ...            32.0        11   \n",
       "1            APARTMENT   False     False  ...            19.0        11   \n",
       "2                  NaN   False     False  ...            63.0        11   \n",
       "3            RESIDENCE   False     False  ...            14.0       08A   \n",
       "4            RESIDENCE   False     False  ...            71.0        11   \n",
       "\n",
       "   X Coordinate  Y Coordinate  Year              Updated On  Latitude  \\\n",
       "0           NaN           NaN  2015  08/01/2017 03:52:26 PM       NaN   \n",
       "1           NaN           NaN  2018  04/06/2019 04:04:43 PM       NaN   \n",
       "2           NaN           NaN  2016  04/06/2019 04:04:43 PM       NaN   \n",
       "3           NaN           NaN  2018  04/06/2019 04:04:43 PM       NaN   \n",
       "4           NaN           NaN  2014  04/06/2019 04:04:43 PM       NaN   \n",
       "\n",
       "   Longitude Location     City  \n",
       "0        NaN      NaN  Chicago  \n",
       "1        NaN      NaN  Chicago  \n",
       "2        NaN      NaN  Chicago  \n",
       "3        NaN      NaN  Chicago  \n",
       "4        NaN      NaN  Chicago  \n",
       "\n",
       "[5 rows x 23 columns]"
      ]
     },
     "execution_count": 17,
     "metadata": {},
     "output_type": "execute_result"
    }
   ],
   "source": [
    "# load data from comma-seperated values spreadsheet into a dataframe\n",
    "# Add a city column\n",
    "df_chi = pd.read_csv('chicago_crime_data.csv')\n",
    "df_chi['City'] = 'Chicago'\n",
    "df_chi.head()"
   ]
  },
  {
   "cell_type": "code",
   "execution_count": 18,
   "id": "549a8c9a-9d40-447e-9cf9-72f6d0425584",
   "metadata": {},
   "outputs": [
    {
     "name": "stdout",
     "output_type": "stream",
     "text": [
      "<class 'pandas.core.frame.DataFrame'>\n",
      "RangeIndex: 7968984 entries, 0 to 7968983\n",
      "Data columns (total 23 columns):\n",
      " #   Column                Dtype  \n",
      "---  ------                -----  \n",
      " 0   ID                    int64  \n",
      " 1   Case Number           object \n",
      " 2   Date                  object \n",
      " 3   Block                 object \n",
      " 4   IUCR                  object \n",
      " 5   Primary Type          object \n",
      " 6   Description           object \n",
      " 7   Location Description  object \n",
      " 8   Arrest                bool   \n",
      " 9   Domestic              bool   \n",
      " 10  Beat                  int64  \n",
      " 11  District              float64\n",
      " 12  Ward                  float64\n",
      " 13  Community Area        float64\n",
      " 14  FBI Code              object \n",
      " 15  X Coordinate          float64\n",
      " 16  Y Coordinate          float64\n",
      " 17  Year                  int64  \n",
      " 18  Updated On            object \n",
      " 19  Latitude              float64\n",
      " 20  Longitude             float64\n",
      " 21  Location              object \n",
      " 22  City                  object \n",
      "dtypes: bool(2), float64(7), int64(3), object(11)\n",
      "memory usage: 1.3+ GB\n",
      "Shape: (7968984, 23)\n",
      "Duplicated rows: 0\n",
      "None\n",
      "\n",
      "\n"
     ]
    }
   ],
   "source": [
    "display_dataframe_properties(df_chi)"
   ]
  },
  {
   "cell_type": "markdown",
   "id": "3de286f9-7d6a-4be2-9b6c-e78e06527a1f",
   "metadata": {},
   "source": [
    "**The Chicago dataset spans from 2020 to the present year, 2023, comprising nearly 8 million rows of data. Although the dataframe is generally well-formatted, I've identified a few issues that require attention:** \n",
    "\n",
    "First, there are several columns irrelevant to the posed questions, which I plan to drop. Additionally, the 'Date' column needs conversion to the datetime format, with the time portion being subsequently removed. Given the dataset's substantial size, exceeding 1 GB, I intend to optimize memory usage by converting certain columns into categorical data types.\r\n",
    "\r\n",
    "As for the LA dataset, covering the years 2020 to 2023, we can exclude all Chicago dataset years preceding 2020. Afterward, I'll sort the dataframe by the 'Date' column. Upon completing these steps, I aim to save a new version of the dataframe to segregate and secure the data from the original one. This new dataframe is expected to be significantly smaller, enhancing overall ease of handling and analysis."
   ]
  },
  {
   "cell_type": "code",
   "execution_count": 19,
   "id": "e6d92eec-48ab-439e-9bed-43f2cb2a3d8c",
   "metadata": {},
   "outputs": [],
   "source": [
    "# dropping the following columns\n",
    "df_chi = df_chi.drop(['ID','Case Number','IUCR','Arrest','Domestic','Beat','Ward','Community Area',\n",
    "                      'FBI Code','X Coordinate','Y Coordinate','Updated On','Location'], axis=1)"
   ]
  },
  {
   "cell_type": "code",
   "execution_count": 20,
   "id": "2c4d5d89-ef59-48fd-bd9d-a2428f24931b",
   "metadata": {},
   "outputs": [
    {
     "name": "stdout",
     "output_type": "stream",
     "text": [
      "<class 'pandas.core.series.Series'>\n",
      "RangeIndex: 7968984 entries, 0 to 7968983\n",
      "Series name: Date\n",
      "Non-Null Count    Dtype         \n",
      "--------------    -----         \n",
      "7968984 non-null  datetime64[ns]\n",
      "dtypes: datetime64[ns](1)\n",
      "memory usage: 60.8 MB\n"
     ]
    }
   ],
   "source": [
    "# convert 'Date' column to datetime format, drop the 'hh/mm/ss am/pm' portion of each value then confirm with .info()\n",
    "# dropping the time column will also make our data more tidy because it isn't needed\n",
    "df_chi['Date'] = pd.to_datetime(df_chi['Date'], format='%m/%d/%Y %I:%M:%S %p').dt.normalize()\n",
    "df_chi.Date.info()"
   ]
  },
  {
   "cell_type": "code",
   "execution_count": 21,
   "id": "0bd81303-8ec9-491e-a5ce-ab7ffe13f282",
   "metadata": {},
   "outputs": [
    {
     "data": {
      "text/html": [
       "<div>\n",
       "<style scoped>\n",
       "    .dataframe tbody tr th:only-of-type {\n",
       "        vertical-align: middle;\n",
       "    }\n",
       "\n",
       "    .dataframe tbody tr th {\n",
       "        vertical-align: top;\n",
       "    }\n",
       "\n",
       "    .dataframe thead th {\n",
       "        text-align: right;\n",
       "    }\n",
       "</style>\n",
       "<table border=\"1\" class=\"dataframe\">\n",
       "  <thead>\n",
       "    <tr style=\"text-align: right;\">\n",
       "      <th></th>\n",
       "      <th>Date</th>\n",
       "      <th>Block</th>\n",
       "      <th>Primary Type</th>\n",
       "      <th>Description</th>\n",
       "      <th>Location Description</th>\n",
       "      <th>District</th>\n",
       "      <th>Year</th>\n",
       "      <th>Latitude</th>\n",
       "      <th>Longitude</th>\n",
       "      <th>City</th>\n",
       "    </tr>\n",
       "  </thead>\n",
       "  <tbody>\n",
       "    <tr>\n",
       "      <th>0</th>\n",
       "      <td>2015-03-18</td>\n",
       "      <td>0000X W WACKER DR</td>\n",
       "      <td>DECEPTIVE PRACTICE</td>\n",
       "      <td>FINANCIAL IDENTITY THEFT OVER $ 300</td>\n",
       "      <td>BANK</td>\n",
       "      <td>1.0</td>\n",
       "      <td>2015</td>\n",
       "      <td>NaN</td>\n",
       "      <td>NaN</td>\n",
       "      <td>Chicago</td>\n",
       "    </tr>\n",
       "  </tbody>\n",
       "</table>\n",
       "</div>"
      ],
      "text/plain": [
       "        Date              Block        Primary Type  \\\n",
       "0 2015-03-18  0000X W WACKER DR  DECEPTIVE PRACTICE   \n",
       "\n",
       "                           Description Location Description  District  Year  \\\n",
       "0  FINANCIAL IDENTITY THEFT OVER $ 300                 BANK       1.0  2015   \n",
       "\n",
       "   Latitude  Longitude     City  \n",
       "0       NaN        NaN  Chicago  "
      ]
     },
     "execution_count": 21,
     "metadata": {},
     "output_type": "execute_result"
    }
   ],
   "source": [
    "df_chi.head(1)"
   ]
  },
  {
   "cell_type": "markdown",
   "id": "2f19e8b3-ff62-4025-9c40-aaac79f43b67",
   "metadata": {},
   "source": [
    "Examining the 'Description,' 'Primary Type,' and 'Location Description' columns reveals that converting these object types into categories can significantly enhance memory efficiency. This optimization will consequently lead to improved performance and readability. Additionally, to streamline data interpretation, I propose categorizing values in the 'Location Description' and 'Description' columns into buckets, with the top 30 values retained and any values beyond this threshold grouped into an 'other' bucket."
   ]
  },
  {
   "cell_type": "code",
   "execution_count": 22,
   "id": "f019417a-552e-49e9-af91-a312bf5928dd",
   "metadata": {},
   "outputs": [
    {
     "name": "stdout",
     "output_type": "stream",
     "text": [
      "<class 'pandas.core.frame.DataFrame'>\n",
      "RangeIndex: 7968984 entries, 0 to 7968983\n",
      "Data columns (total 3 columns):\n",
      " #   Column                Dtype \n",
      "---  ------                ----- \n",
      " 0   Primary Type          object\n",
      " 1   Description           object\n",
      " 2   Location Description  object\n",
      "dtypes: object(3)\n",
      "memory usage: 182.4+ MB\n"
     ]
    }
   ],
   "source": [
    "# the .info method is designed to work on the entire dataframe or one column. I'd like to get a look at the dtype\n",
    "# and memory usage of both columns so I'll build a variable that includes both columns\n",
    "selected_columns = ['Primary Type', 'Description', 'Location Description',]\n",
    "subset_chi_df = df_chi[selected_columns]\n",
    "\n",
    "# display information about the dataframe\n",
    "subset_chi_df.info()"
   ]
  },
  {
   "cell_type": "markdown",
   "id": "bb0d7f4b-d20b-4f8c-a260-4049e97b4fe2",
   "metadata": {},
   "source": [
    "Before converting these columns into categories I need to consoloidate the 'Location Description' and 'Description' columns.\n",
    "\n",
    "The code below focuses on enhancing the clarity of crime data in the Chicago DataFrame (df_chi). It targets the 'Location Description' and 'Description' columns, aiming to group less common values into a simplified 'Other' category. By identifying the 30 least common values in each column based on frequency counts, the code replaces occurrences of these values with the label 'Other'. This step is a common practice to streamline data for improved analysis and interpretation."
   ]
  },
  {
   "cell_type": "code",
   "execution_count": 23,
   "id": "0e9badf3-58e5-4edc-b096-348c9e559925",
   "metadata": {},
   "outputs": [],
   "source": [
    "# Identifying the 15 least common values in 'Location Description' and 'description'\n",
    "location_change = list(df_chi['Location Description'].value_counts()[15:].index)\n",
    "desc_change = list(df_chi['Description'].value_counts()[15:].index)\n",
    "\n",
    "# Replacing the identified less common 'Location Description' and 'description' values with 'Other'\n",
    "df_chi.loc[df_chi['Location Description'].isin(location_change), df_chi.columns=='Location Description'] = 'OTHER'\n",
    "df_chi.loc[df_chi['Description'].isin(desc_change), df_chi.columns=='Description'] = 'OTHER'"
   ]
  },
  {
   "cell_type": "markdown",
   "id": "dcce083f-29f7-46dc-88fb-4f4d625ccf7b",
   "metadata": {},
   "source": [
    "Now lets categorize these columns to optimize memory usage and improve performace"
   ]
  },
  {
   "cell_type": "code",
   "execution_count": 24,
   "id": "0fc07c49-cabf-4294-aebd-79034a2622ba",
   "metadata": {},
   "outputs": [],
   "source": [
    "# converting these columns from objects to categories\n",
    "df_chi['Primary Type'] = df_chi['Primary Type'].astype('category')\n",
    "df_chi['Description'] = df_chi['Description'].astype('category')\n",
    "df_chi['Location Description'] = df_chi['Location Description'].astype('category')"
   ]
  },
  {
   "cell_type": "code",
   "execution_count": 25,
   "id": "250eb512-8801-4289-b2c0-889ca0f5e576",
   "metadata": {},
   "outputs": [
    {
     "name": "stdout",
     "output_type": "stream",
     "text": [
      "<class 'pandas.core.frame.DataFrame'>\n",
      "RangeIndex: 7968984 entries, 0 to 7968983\n",
      "Data columns (total 3 columns):\n",
      " #   Column                Dtype   \n",
      "---  ------                -----   \n",
      " 0   Primary Type          category\n",
      " 1   Description           category\n",
      " 2   Location Description  category\n",
      "dtypes: category(3)\n",
      "memory usage: 22.8 MB\n"
     ]
    }
   ],
   "source": [
    "# using the same combination method as above to check dtype and memory usage\n",
    "selected_columns = ['Primary Type', 'Description', 'Location Description',]\n",
    "subset_chi_df_1 = df_chi[selected_columns]\n",
    "\n",
    "# display information about the dataframe\n",
    "subset_chi_df_1.info()"
   ]
  },
  {
   "cell_type": "markdown",
   "id": "83a5e02a-9850-4e9a-b857-6b44a064fe7e",
   "metadata": {},
   "source": [
    "Memory usage in these columns has been reduced from 182 MB to only 23 MB.\n",
    "\n",
    "Lets take a look at how each column was affected using the value_counts method. Reducing these vital columns to buckets of 30 will assist during the analysis phase of this project."
   ]
  },
  {
   "cell_type": "code",
   "execution_count": 26,
   "id": "a3f1fab3-f073-49e6-86e5-34dffd335dea",
   "metadata": {},
   "outputs": [
    {
     "data": {
      "text/plain": [
       "Description\n",
       "OTHER                           2605374\n",
       "SIMPLE                           934662\n",
       "$500 AND UNDER                   644424\n",
       "DOMESTIC BATTERY SIMPLE          622432\n",
       "TO VEHICLE                       445114\n",
       "OVER $500                        429552\n",
       "TO PROPERTY                      418685\n",
       "AUTOMOBILE                       310562\n",
       "FORCIBLE ENTRY                   287125\n",
       "POSS: CANNABIS 30GMS OR LESS     278135\n",
       "FROM BUILDING                    258625\n",
       "RETAIL THEFT                     210202\n",
       "TELEPHONE THREAT                 152436\n",
       "TO LAND                          133451\n",
       "POSS: CRACK                      121109\n",
       "UNLAWFUL ENTRY                   117096\n",
       "Name: count, dtype: int64"
      ]
     },
     "execution_count": 26,
     "metadata": {},
     "output_type": "execute_result"
    }
   ],
   "source": [
    "df_chi['Description'].value_counts()"
   ]
  },
  {
   "cell_type": "code",
   "execution_count": 27,
   "id": "f2a19481-5623-4352-a8b4-de16bd6bc624",
   "metadata": {},
   "outputs": [
    {
     "data": {
      "text/plain": [
       "Location Description\n",
       "STREET                            2081323\n",
       "OTHER                             1497713\n",
       "RESIDENCE                         1327993\n",
       "APARTMENT                          912876\n",
       "SIDEWALK                           738686\n",
       "PARKING LOT/GARAGE(NON.RESID.)     202970\n",
       "ALLEY                              177248\n",
       "SMALL RETAIL STORE                 152275\n",
       "SCHOOL, PUBLIC, BUILDING           146375\n",
       "RESIDENCE-GARAGE                   135530\n",
       "RESTAURANT                         131001\n",
       "VEHICLE NON-COMMERCIAL             126677\n",
       "RESIDENCE PORCH/HALLWAY            124197\n",
       "DEPARTMENT STORE                   101497\n",
       "GROCERY FOOD STORE                 100356\n",
       "Name: count, dtype: int64"
      ]
     },
     "execution_count": 27,
     "metadata": {},
     "output_type": "execute_result"
    }
   ],
   "source": [
    "df_chi['Location Description'].value_counts()"
   ]
  },
  {
   "cell_type": "markdown",
   "id": "a756251b-7b08-4e4a-bbcf-b7b46186a853",
   "metadata": {},
   "source": [
    "Now lets filter based on the years that will match with our LA dataset, then we will sort by the date column and reset the index"
   ]
  },
  {
   "cell_type": "code",
   "execution_count": 28,
   "id": "24eb5bd9-3e41-4598-b08b-c6d88a2310b4",
   "metadata": {},
   "outputs": [
    {
     "data": {
      "text/html": [
       "<div>\n",
       "<style scoped>\n",
       "    .dataframe tbody tr th:only-of-type {\n",
       "        vertical-align: middle;\n",
       "    }\n",
       "\n",
       "    .dataframe tbody tr th {\n",
       "        vertical-align: top;\n",
       "    }\n",
       "\n",
       "    .dataframe thead th {\n",
       "        text-align: right;\n",
       "    }\n",
       "</style>\n",
       "<table border=\"1\" class=\"dataframe\">\n",
       "  <thead>\n",
       "    <tr style=\"text-align: right;\">\n",
       "      <th></th>\n",
       "      <th>Date</th>\n",
       "      <th>Block</th>\n",
       "      <th>Primary Type</th>\n",
       "      <th>Description</th>\n",
       "      <th>Location Description</th>\n",
       "      <th>District</th>\n",
       "      <th>Year</th>\n",
       "      <th>Latitude</th>\n",
       "      <th>Longitude</th>\n",
       "      <th>City</th>\n",
       "    </tr>\n",
       "  </thead>\n",
       "  <tbody>\n",
       "    <tr>\n",
       "      <th>0</th>\n",
       "      <td>2020-01-01</td>\n",
       "      <td>005XX N MICHIGAN AVE</td>\n",
       "      <td>THEFT</td>\n",
       "      <td>RETAIL THEFT</td>\n",
       "      <td>SMALL RETAIL STORE</td>\n",
       "      <td>18.0</td>\n",
       "      <td>2020</td>\n",
       "      <td>41.892097</td>\n",
       "      <td>-87.624164</td>\n",
       "      <td>Chicago</td>\n",
       "    </tr>\n",
       "    <tr>\n",
       "      <th>1</th>\n",
       "      <td>2020-01-01</td>\n",
       "      <td>122XX S MICHIGAN AVE</td>\n",
       "      <td>ASSAULT</td>\n",
       "      <td>OTHER</td>\n",
       "      <td>STREET</td>\n",
       "      <td>5.0</td>\n",
       "      <td>2020</td>\n",
       "      <td>41.671251</td>\n",
       "      <td>-87.620306</td>\n",
       "      <td>Chicago</td>\n",
       "    </tr>\n",
       "    <tr>\n",
       "      <th>2</th>\n",
       "      <td>2020-01-01</td>\n",
       "      <td>014XX W IRVING PARK RD</td>\n",
       "      <td>BATTERY</td>\n",
       "      <td>DOMESTIC BATTERY SIMPLE</td>\n",
       "      <td>RESIDENCE</td>\n",
       "      <td>19.0</td>\n",
       "      <td>2020</td>\n",
       "      <td>41.954325</td>\n",
       "      <td>-87.666352</td>\n",
       "      <td>Chicago</td>\n",
       "    </tr>\n",
       "    <tr>\n",
       "      <th>3</th>\n",
       "      <td>2020-01-01</td>\n",
       "      <td>130XX S ELLIS AVE</td>\n",
       "      <td>CRIMINAL DAMAGE</td>\n",
       "      <td>TO PROPERTY</td>\n",
       "      <td>OTHER</td>\n",
       "      <td>5.0</td>\n",
       "      <td>2020</td>\n",
       "      <td>41.658144</td>\n",
       "      <td>-87.597579</td>\n",
       "      <td>Chicago</td>\n",
       "    </tr>\n",
       "    <tr>\n",
       "      <th>4</th>\n",
       "      <td>2020-01-01</td>\n",
       "      <td>053XX S CAMPBELL AVE</td>\n",
       "      <td>ASSAULT</td>\n",
       "      <td>OTHER</td>\n",
       "      <td>SIDEWALK</td>\n",
       "      <td>9.0</td>\n",
       "      <td>2020</td>\n",
       "      <td>41.796737</td>\n",
       "      <td>-87.686564</td>\n",
       "      <td>Chicago</td>\n",
       "    </tr>\n",
       "  </tbody>\n",
       "</table>\n",
       "</div>"
      ],
      "text/plain": [
       "        Date                   Block     Primary Type  \\\n",
       "0 2020-01-01    005XX N MICHIGAN AVE            THEFT   \n",
       "1 2020-01-01    122XX S MICHIGAN AVE          ASSAULT   \n",
       "2 2020-01-01  014XX W IRVING PARK RD          BATTERY   \n",
       "3 2020-01-01       130XX S ELLIS AVE  CRIMINAL DAMAGE   \n",
       "4 2020-01-01    053XX S CAMPBELL AVE          ASSAULT   \n",
       "\n",
       "               Description Location Description  District  Year   Latitude  \\\n",
       "0             RETAIL THEFT   SMALL RETAIL STORE      18.0  2020  41.892097   \n",
       "1                    OTHER               STREET       5.0  2020  41.671251   \n",
       "2  DOMESTIC BATTERY SIMPLE            RESIDENCE      19.0  2020  41.954325   \n",
       "3              TO PROPERTY                OTHER       5.0  2020  41.658144   \n",
       "4                    OTHER             SIDEWALK       9.0  2020  41.796737   \n",
       "\n",
       "   Longitude     City  \n",
       "0 -87.624164  Chicago  \n",
       "1 -87.620306  Chicago  \n",
       "2 -87.666352  Chicago  \n",
       "3 -87.597579  Chicago  \n",
       "4 -87.686564  Chicago  "
      ]
     },
     "execution_count": 28,
     "metadata": {},
     "output_type": "execute_result"
    }
   ],
   "source": [
    "year_mask = (df_chi['Year'] >= 2020) & (df_chi['Year'] <=2023)\n",
    "df_chi = df_chi[year_mask]\n",
    "df_chi.head()\n",
    "\n",
    "# sort by date column\n",
    "df_chi = df_chi.sort_values(by='Date')\n",
    "df_chi.head()\n",
    "\n",
    "# reset the index\n",
    "df_chi = df_chi.reset_index(drop=True)\n",
    "df_chi.head()"
   ]
  },
  {
   "cell_type": "markdown",
   "id": "52d252b6-b186-45a4-a705-bef88100d963",
   "metadata": {},
   "source": [
    "Lets rename the columns to make them more descriptive."
   ]
  },
  {
   "cell_type": "code",
   "execution_count": 29,
   "id": "a08492ae-d193-4106-bbd5-872731a647f1",
   "metadata": {},
   "outputs": [
    {
     "data": {
      "text/html": [
       "<div>\n",
       "<style scoped>\n",
       "    .dataframe tbody tr th:only-of-type {\n",
       "        vertical-align: middle;\n",
       "    }\n",
       "\n",
       "    .dataframe tbody tr th {\n",
       "        vertical-align: top;\n",
       "    }\n",
       "\n",
       "    .dataframe thead th {\n",
       "        text-align: right;\n",
       "    }\n",
       "</style>\n",
       "<table border=\"1\" class=\"dataframe\">\n",
       "  <thead>\n",
       "    <tr style=\"text-align: right;\">\n",
       "      <th></th>\n",
       "      <th>Date</th>\n",
       "      <th>Address</th>\n",
       "      <th>Crime Type</th>\n",
       "      <th>Crime Description</th>\n",
       "      <th>Location Description</th>\n",
       "      <th>District</th>\n",
       "      <th>Year</th>\n",
       "      <th>Latitude</th>\n",
       "      <th>Longitude</th>\n",
       "      <th>City</th>\n",
       "    </tr>\n",
       "  </thead>\n",
       "  <tbody>\n",
       "    <tr>\n",
       "      <th>0</th>\n",
       "      <td>2020-01-01</td>\n",
       "      <td>005XX N MICHIGAN AVE</td>\n",
       "      <td>THEFT</td>\n",
       "      <td>RETAIL THEFT</td>\n",
       "      <td>SMALL RETAIL STORE</td>\n",
       "      <td>18.0</td>\n",
       "      <td>2020</td>\n",
       "      <td>41.892097</td>\n",
       "      <td>-87.624164</td>\n",
       "      <td>Chicago</td>\n",
       "    </tr>\n",
       "    <tr>\n",
       "      <th>1</th>\n",
       "      <td>2020-01-01</td>\n",
       "      <td>122XX S MICHIGAN AVE</td>\n",
       "      <td>ASSAULT</td>\n",
       "      <td>OTHER</td>\n",
       "      <td>STREET</td>\n",
       "      <td>5.0</td>\n",
       "      <td>2020</td>\n",
       "      <td>41.671251</td>\n",
       "      <td>-87.620306</td>\n",
       "      <td>Chicago</td>\n",
       "    </tr>\n",
       "  </tbody>\n",
       "</table>\n",
       "</div>"
      ],
      "text/plain": [
       "        Date               Address Crime Type Crime Description  \\\n",
       "0 2020-01-01  005XX N MICHIGAN AVE      THEFT      RETAIL THEFT   \n",
       "1 2020-01-01  122XX S MICHIGAN AVE    ASSAULT             OTHER   \n",
       "\n",
       "  Location Description  District  Year   Latitude  Longitude     City  \n",
       "0   SMALL RETAIL STORE      18.0  2020  41.892097 -87.624164  Chicago  \n",
       "1               STREET       5.0  2020  41.671251 -87.620306  Chicago  "
      ]
     },
     "execution_count": 29,
     "metadata": {},
     "output_type": "execute_result"
    }
   ],
   "source": [
    "df_chi.columns = [\n",
    "    'Date',\n",
    "    'Address',\n",
    "    'Crime Type',\n",
    "    'Crime Description',\n",
    "    'Location Description',\n",
    "    'District',\n",
    "    'Year',\n",
    "    'Latitude',\n",
    "    'Longitude',\n",
    "    'City',\n",
    "]\n",
    "df_chi.head(2)"
   ]
  },
  {
   "cell_type": "markdown",
   "id": "e25cf192-ed18-4c51-8edd-da7718a171d7",
   "metadata": {},
   "source": [
    "<a id='la_dataset'></a>\n",
    "##### Now lets take a look at the Los Angeles dataset"
   ]
  },
  {
   "cell_type": "code",
   "execution_count": null,
   "id": "f1fdfaeb-33bc-4319-b276-dbe356586808",
   "metadata": {},
   "outputs": [],
   "source": [
    "# programmatically download a .csv file and save to a local directory\n",
    "url = 'https://data.lacity.org/api/views/2nrs-mtv8/rows.csv'\n",
    "response = requests.get(url)\n",
    "with open('Crime_Data_from_2020_to_Present_la.csv', mode='wb') as file:\n",
    "    file.write(response.content)"
   ]
  },
  {
   "cell_type": "code",
   "execution_count": 30,
   "id": "0efd7e61-2428-44fd-ad49-e36555737eed",
   "metadata": {},
   "outputs": [
    {
     "data": {
      "text/html": [
       "<div>\n",
       "<style scoped>\n",
       "    .dataframe tbody tr th:only-of-type {\n",
       "        vertical-align: middle;\n",
       "    }\n",
       "\n",
       "    .dataframe tbody tr th {\n",
       "        vertical-align: top;\n",
       "    }\n",
       "\n",
       "    .dataframe thead th {\n",
       "        text-align: right;\n",
       "    }\n",
       "</style>\n",
       "<table border=\"1\" class=\"dataframe\">\n",
       "  <thead>\n",
       "    <tr style=\"text-align: right;\">\n",
       "      <th></th>\n",
       "      <th>DR_NO</th>\n",
       "      <th>Date Rptd</th>\n",
       "      <th>DATE OCC</th>\n",
       "      <th>TIME OCC</th>\n",
       "      <th>AREA</th>\n",
       "      <th>AREA NAME</th>\n",
       "      <th>Rpt Dist No</th>\n",
       "      <th>Part 1-2</th>\n",
       "      <th>Crm Cd</th>\n",
       "      <th>Crm Cd Desc</th>\n",
       "      <th>...</th>\n",
       "      <th>Status Desc</th>\n",
       "      <th>Crm Cd 1</th>\n",
       "      <th>Crm Cd 2</th>\n",
       "      <th>Crm Cd 3</th>\n",
       "      <th>Crm Cd 4</th>\n",
       "      <th>LOCATION</th>\n",
       "      <th>Cross Street</th>\n",
       "      <th>LAT</th>\n",
       "      <th>LON</th>\n",
       "      <th>City</th>\n",
       "    </tr>\n",
       "  </thead>\n",
       "  <tbody>\n",
       "    <tr>\n",
       "      <th>0</th>\n",
       "      <td>10304468</td>\n",
       "      <td>01/08/2020 12:00:00 AM</td>\n",
       "      <td>01/08/2020 12:00:00 AM</td>\n",
       "      <td>2230</td>\n",
       "      <td>3</td>\n",
       "      <td>Southwest</td>\n",
       "      <td>377</td>\n",
       "      <td>2</td>\n",
       "      <td>624</td>\n",
       "      <td>BATTERY - SIMPLE ASSAULT</td>\n",
       "      <td>...</td>\n",
       "      <td>Adult Other</td>\n",
       "      <td>624.0</td>\n",
       "      <td>NaN</td>\n",
       "      <td>NaN</td>\n",
       "      <td>NaN</td>\n",
       "      <td>1100 W  39TH                         PL</td>\n",
       "      <td>NaN</td>\n",
       "      <td>34.0141</td>\n",
       "      <td>-118.2978</td>\n",
       "      <td>Los Angeles</td>\n",
       "    </tr>\n",
       "  </tbody>\n",
       "</table>\n",
       "<p>1 rows × 29 columns</p>\n",
       "</div>"
      ],
      "text/plain": [
       "      DR_NO               Date Rptd                DATE OCC  TIME OCC  AREA  \\\n",
       "0  10304468  01/08/2020 12:00:00 AM  01/08/2020 12:00:00 AM      2230     3   \n",
       "\n",
       "   AREA NAME  Rpt Dist No  Part 1-2  Crm Cd               Crm Cd Desc  ...  \\\n",
       "0  Southwest          377         2     624  BATTERY - SIMPLE ASSAULT  ...   \n",
       "\n",
       "   Status Desc  Crm Cd 1 Crm Cd 2 Crm Cd 3  Crm Cd 4  \\\n",
       "0  Adult Other     624.0      NaN      NaN       NaN   \n",
       "\n",
       "                                  LOCATION  Cross Street      LAT       LON  \\\n",
       "0  1100 W  39TH                         PL           NaN  34.0141 -118.2978   \n",
       "\n",
       "          City  \n",
       "0  Los Angeles  \n",
       "\n",
       "[1 rows x 29 columns]"
      ]
     },
     "execution_count": 30,
     "metadata": {},
     "output_type": "execute_result"
    }
   ],
   "source": [
    "# load data from comma-seperated values spreadsheet into a dataframe\n",
    "# Add a column for City\n",
    "df_la = pd.read_csv('Crime_Data_from_2020_to_Present_la.csv')\n",
    "df_la['City'] = 'Los Angeles'\n",
    "df_la.head(1)"
   ]
  },
  {
   "cell_type": "code",
   "execution_count": 31,
   "id": "930c4cb2-620a-41c2-a8f8-97b2607b0f57",
   "metadata": {},
   "outputs": [
    {
     "name": "stdout",
     "output_type": "stream",
     "text": [
      "<class 'pandas.core.frame.DataFrame'>\n",
      "RangeIndex: 862906 entries, 0 to 862905\n",
      "Data columns (total 29 columns):\n",
      " #   Column          Non-Null Count   Dtype  \n",
      "---  ------          --------------   -----  \n",
      " 0   DR_NO           862906 non-null  int64  \n",
      " 1   Date Rptd       862906 non-null  object \n",
      " 2   DATE OCC        862906 non-null  object \n",
      " 3   TIME OCC        862906 non-null  int64  \n",
      " 4   AREA            862906 non-null  int64  \n",
      " 5   AREA NAME       862906 non-null  object \n",
      " 6   Rpt Dist No     862906 non-null  int64  \n",
      " 7   Part 1-2        862906 non-null  int64  \n",
      " 8   Crm Cd          862906 non-null  int64  \n",
      " 9   Crm Cd Desc     862906 non-null  object \n",
      " 10  Mocodes         749241 non-null  object \n",
      " 11  Vict Age        862906 non-null  int64  \n",
      " 12  Vict Sex        757597 non-null  object \n",
      " 13  Vict Descent    757584 non-null  object \n",
      " 14  Premis Cd       862886 non-null  float64\n",
      " 15  Premis Desc     862398 non-null  object \n",
      " 16  Weapon Used Cd  299647 non-null  float64\n",
      " 17  Weapon Desc     299647 non-null  object \n",
      " 18  Status          862905 non-null  object \n",
      " 19  Status Desc     862906 non-null  object \n",
      " 20  Crm Cd 1        862896 non-null  float64\n",
      " 21  Crm Cd 2        58447 non-null   float64\n",
      " 22  Crm Cd 3        1742 non-null    float64\n",
      " 23  Crm Cd 4        57 non-null      float64\n",
      " 24  LOCATION        862906 non-null  object \n",
      " 25  Cross Street    135461 non-null  object \n",
      " 26  LAT             862906 non-null  float64\n",
      " 27  LON             862906 non-null  float64\n",
      " 28  City            862906 non-null  object \n",
      "dtypes: float64(8), int64(7), object(14)\n",
      "memory usage: 190.9+ MB\n",
      "Shape: (862906, 29)\n",
      "Duplicated rows: 124959\n",
      "None\n",
      "\n",
      "\n"
     ]
    }
   ],
   "source": [
    "display_dataframe_properties(df_la)"
   ]
  },
  {
   "cell_type": "markdown",
   "id": "e14531a9-fe64-4791-be07-a27442a63cc7",
   "metadata": {},
   "source": [
    "**The Los Angeles dataset has over 800,000 rows of data. The issues I have identified that require attention before we can begin our analysis are as follows:**\n",
    "\n",
    "Like in the Chicago dataset there are several columns that need to be dropped because they do not pertain to the questions we are trying to answer. Like in the Chicago dataset the date column is a string so this will need to be changed to a datetime object, I'll also extract the Year. \n",
    "\n",
    "Taking a look at the 'Crm Cd Desc' column it appears this is a combination of the Crime Type and Crime Description column in the Chicago dataset. For my analytics purposes I'll need to build a function to extract keywords from this column to combine them into buckets that better match the Chicago dataset. Some crime types will also need to be renamed so they match each other.\n",
    "\n",
    "After breaking these into buckets I'll do like in the Chicago dataset and take the top 30 performing types of crime for the analysis. Last I need to rename and reorder the dataset for matching purposes."
   ]
  },
  {
   "cell_type": "code",
   "execution_count": 32,
   "id": "3912f0c5-f4c0-409c-85d4-e3a37563c014",
   "metadata": {},
   "outputs": [],
   "source": [
    "# dropping the following columns\n",
    "df_la = df_la.drop(['DR_NO','Date Rptd','TIME OCC','AREA','AREA NAME','Part 1-2','Crm Cd',\n",
    "                    'Mocodes','Vict Age','Vict Sex','Vict Descent','Premis Cd','Weapon Used Cd',\n",
    "                    'Weapon Desc','Status','Status Desc','Crm Cd 1','Crm Cd 2','Crm Cd 3','Crm Cd 4',\n",
    "                    'Cross Street'], axis=1)"
   ]
  },
  {
   "cell_type": "code",
   "execution_count": 33,
   "id": "2b64cd57-f1f1-4cad-a240-ed31cf586a20",
   "metadata": {},
   "outputs": [
    {
     "data": {
      "text/html": [
       "<div>\n",
       "<style scoped>\n",
       "    .dataframe tbody tr th:only-of-type {\n",
       "        vertical-align: middle;\n",
       "    }\n",
       "\n",
       "    .dataframe tbody tr th {\n",
       "        vertical-align: top;\n",
       "    }\n",
       "\n",
       "    .dataframe thead th {\n",
       "        text-align: right;\n",
       "    }\n",
       "</style>\n",
       "<table border=\"1\" class=\"dataframe\">\n",
       "  <thead>\n",
       "    <tr style=\"text-align: right;\">\n",
       "      <th></th>\n",
       "      <th>DATE OCC</th>\n",
       "      <th>Rpt Dist No</th>\n",
       "      <th>Crm Cd Desc</th>\n",
       "      <th>Premis Desc</th>\n",
       "      <th>LOCATION</th>\n",
       "      <th>LAT</th>\n",
       "      <th>LON</th>\n",
       "      <th>City</th>\n",
       "    </tr>\n",
       "  </thead>\n",
       "  <tbody>\n",
       "    <tr>\n",
       "      <th>0</th>\n",
       "      <td>01/08/2020 12:00:00 AM</td>\n",
       "      <td>377</td>\n",
       "      <td>BATTERY - SIMPLE ASSAULT</td>\n",
       "      <td>SINGLE FAMILY DWELLING</td>\n",
       "      <td>1100 W  39TH                         PL</td>\n",
       "      <td>34.0141</td>\n",
       "      <td>-118.2978</td>\n",
       "      <td>Los Angeles</td>\n",
       "    </tr>\n",
       "    <tr>\n",
       "      <th>1</th>\n",
       "      <td>01/01/2020 12:00:00 AM</td>\n",
       "      <td>163</td>\n",
       "      <td>BATTERY - SIMPLE ASSAULT</td>\n",
       "      <td>SIDEWALK</td>\n",
       "      <td>700 S  HILL                         ST</td>\n",
       "      <td>34.0459</td>\n",
       "      <td>-118.2545</td>\n",
       "      <td>Los Angeles</td>\n",
       "    </tr>\n",
       "  </tbody>\n",
       "</table>\n",
       "</div>"
      ],
      "text/plain": [
       "                 DATE OCC  Rpt Dist No               Crm Cd Desc  \\\n",
       "0  01/08/2020 12:00:00 AM          377  BATTERY - SIMPLE ASSAULT   \n",
       "1  01/01/2020 12:00:00 AM          163  BATTERY - SIMPLE ASSAULT   \n",
       "\n",
       "              Premis Desc                                 LOCATION      LAT  \\\n",
       "0  SINGLE FAMILY DWELLING  1100 W  39TH                         PL  34.0141   \n",
       "1                SIDEWALK   700 S  HILL                         ST  34.0459   \n",
       "\n",
       "        LON         City  \n",
       "0 -118.2978  Los Angeles  \n",
       "1 -118.2545  Los Angeles  "
      ]
     },
     "execution_count": 33,
     "metadata": {},
     "output_type": "execute_result"
    }
   ],
   "source": [
    "df_la.head(2)"
   ]
  },
  {
   "cell_type": "code",
   "execution_count": 34,
   "id": "71f3a15d-8a96-4e9d-b5fd-2f629d2118d0",
   "metadata": {},
   "outputs": [
    {
     "name": "stdout",
     "output_type": "stream",
     "text": [
      "<class 'pandas.core.series.Series'>\n",
      "RangeIndex: 862906 entries, 0 to 862905\n",
      "Series name: DATE OCC\n",
      "Non-Null Count   Dtype         \n",
      "--------------   -----         \n",
      "862906 non-null  datetime64[ns]\n",
      "dtypes: datetime64[ns](1)\n",
      "memory usage: 6.6 MB\n"
     ]
    }
   ],
   "source": [
    "# convert 'Date OCC' column to datetime format, drop the 'hh/mm/ss am/pm' portion of each value then confirm with .info()\n",
    "# dropping the time column will also make our data more tidy\n",
    "df_la['DATE OCC'] = pd.to_datetime(df_la['DATE OCC'], format='%m/%d/%Y %I:%M:%S %p').dt.normalize()\n",
    "df_la['DATE OCC'].info()"
   ]
  },
  {
   "cell_type": "markdown",
   "id": "10a0587e-45e1-4717-9a06-380eb511a235",
   "metadata": {},
   "source": [
    "Lets add a Year column to match our Chicago dataframe."
   ]
  },
  {
   "cell_type": "code",
   "execution_count": 35,
   "id": "323e669b-8b3d-41c3-ac86-ae7dbf51c738",
   "metadata": {},
   "outputs": [
    {
     "data": {
      "text/html": [
       "<div>\n",
       "<style scoped>\n",
       "    .dataframe tbody tr th:only-of-type {\n",
       "        vertical-align: middle;\n",
       "    }\n",
       "\n",
       "    .dataframe tbody tr th {\n",
       "        vertical-align: top;\n",
       "    }\n",
       "\n",
       "    .dataframe thead th {\n",
       "        text-align: right;\n",
       "    }\n",
       "</style>\n",
       "<table border=\"1\" class=\"dataframe\">\n",
       "  <thead>\n",
       "    <tr style=\"text-align: right;\">\n",
       "      <th></th>\n",
       "      <th>DATE OCC</th>\n",
       "      <th>Rpt Dist No</th>\n",
       "      <th>Crm Cd Desc</th>\n",
       "      <th>Premis Desc</th>\n",
       "      <th>LOCATION</th>\n",
       "      <th>LAT</th>\n",
       "      <th>LON</th>\n",
       "      <th>City</th>\n",
       "      <th>Year</th>\n",
       "    </tr>\n",
       "  </thead>\n",
       "  <tbody>\n",
       "    <tr>\n",
       "      <th>0</th>\n",
       "      <td>2020-01-08</td>\n",
       "      <td>377</td>\n",
       "      <td>BATTERY - SIMPLE ASSAULT</td>\n",
       "      <td>SINGLE FAMILY DWELLING</td>\n",
       "      <td>1100 W  39TH                         PL</td>\n",
       "      <td>34.0141</td>\n",
       "      <td>-118.2978</td>\n",
       "      <td>Los Angeles</td>\n",
       "      <td>2020</td>\n",
       "    </tr>\n",
       "    <tr>\n",
       "      <th>1</th>\n",
       "      <td>2020-01-01</td>\n",
       "      <td>163</td>\n",
       "      <td>BATTERY - SIMPLE ASSAULT</td>\n",
       "      <td>SIDEWALK</td>\n",
       "      <td>700 S  HILL                         ST</td>\n",
       "      <td>34.0459</td>\n",
       "      <td>-118.2545</td>\n",
       "      <td>Los Angeles</td>\n",
       "      <td>2020</td>\n",
       "    </tr>\n",
       "  </tbody>\n",
       "</table>\n",
       "</div>"
      ],
      "text/plain": [
       "    DATE OCC  Rpt Dist No               Crm Cd Desc             Premis Desc  \\\n",
       "0 2020-01-08          377  BATTERY - SIMPLE ASSAULT  SINGLE FAMILY DWELLING   \n",
       "1 2020-01-01          163  BATTERY - SIMPLE ASSAULT                SIDEWALK   \n",
       "\n",
       "                                  LOCATION      LAT       LON         City  \\\n",
       "0  1100 W  39TH                         PL  34.0141 -118.2978  Los Angeles   \n",
       "1   700 S  HILL                         ST  34.0459 -118.2545  Los Angeles   \n",
       "\n",
       "   Year  \n",
       "0  2020  \n",
       "1  2020  "
      ]
     },
     "execution_count": 35,
     "metadata": {},
     "output_type": "execute_result"
    }
   ],
   "source": [
    "# cast to datetime\n",
    "df_la['DATE OCC'] = pd.to_datetime(df_la['DATE OCC'])\n",
    "# add a column for Year\n",
    "df_la['Year'] = df_la['DATE OCC'].dt.year\n",
    "df_la.head(2)"
   ]
  },
  {
   "cell_type": "code",
   "execution_count": 36,
   "id": "f12076f8-1c71-47f5-bc71-2d951c487057",
   "metadata": {},
   "outputs": [],
   "source": [
    "# define a function to categorize crimes into different buckets\n",
    "def categorize_crime(x): \n",
    "    if 'VEHICLE' in x.upper(): \n",
    "        return ['MOTOR VEHICLE THEFT', ''] \n",
    "    elif 'SHOPLIFTING' in x.upper():  # Combine SHOPLIFTING into THEFT\n",
    "        return ['THEFT', 'SHOPLIFTING']\n",
    "    elif 'INTIMATE PARTNER' in x.upper():  # Change INTIMATE PARTNER to PROSTITUTION\n",
    "        return ['PROSTITUTION', '']\n",
    "    elif ' - ' in x: \n",
    "        return [x.split(' - ', 1)[0], x.split(' - ', 1)[1]] \n",
    "    else: \n",
    "        return [x, ''] \n",
    "        \n",
    "df_la[['Primary Crime Type', 'Description']] = df_la['Crm Cd Desc'].apply(categorize_crime).apply(pd.Series) \n",
    "df_la['Primary Crime Type'] = df_la['Primary Crime Type'].apply(lambda x: 'THEFT' if 'THEFT' in x.upper() and 'VEHICLE' not in x.upper() else x)"
   ]
  },
  {
   "cell_type": "markdown",
   "id": "ab8f46e5-57fd-4fe6-a237-b35d507da63b",
   "metadata": {},
   "source": [
    "This code defines a function, categorize_crime, which categorizes crimes based on keywords such as 'VEHICLE' becoming 'MOTOR VEHICLE THEFT', 'SHOPLIFTING' combined into 'THEFT', and 'INTIMATE PARTNER' transformed to 'PROSTITUTION'. This function is then applied to the 'Crm Cd Desc' column, and the result is converted into separate columns ('Primary Crime Type' and 'Description') using pd.Series. The 'Primary Crime Type' column is further adjusted to be 'THEFT' if 'THEFT' is present and 'VEHICLE' is not, aligning with the desired crime type classifications for better analysis."
   ]
  },
  {
   "cell_type": "code",
   "execution_count": 37,
   "id": "df3f07be-8ede-4e9d-a5d7-7b6b285c9976",
   "metadata": {},
   "outputs": [],
   "source": [
    "# Identifying the 15 least common values in 'Primary Crime Type'\n",
    "location_change = list(df_la['Primary Crime Type'].value_counts()[15:].index)\n",
    "\n",
    "# Replacing the identified less common 'Location Description' and 'description' values with 'Other'\n",
    "df_la.loc[df_la['Primary Crime Type'].isin(location_change), df_la.columns=='Primary Crime Type'] = 'OTHER'"
   ]
  },
  {
   "cell_type": "markdown",
   "id": "9b1c16b3-7ff2-47fb-a50f-78a73aafe1e6",
   "metadata": {},
   "source": [
    "The code above focuses on enhancing the clarity of crime data in the Los Angeles DataFrame (df_la). It targets the 'Primary Crime Type' column, aiming to group less common values into a simplified 'OTHER' category. By identifying the 30 least common values in this column based on frequency counts, the code replaced occurrences of these values with the label 'OTHER'. This step is a common practice to streamline data for improved analysis and interpretation."
   ]
  },
  {
   "cell_type": "code",
   "execution_count": 38,
   "id": "f861210d-feca-494a-8e8a-57788cf97555",
   "metadata": {},
   "outputs": [
    {
     "data": {
      "text/plain": [
       "Primary Crime Type\n",
       "MOTOR VEHICLE THEFT                               207064\n",
       "THEFT                                             172698\n",
       "VANDALISM                                          75842\n",
       "OTHER                                              74912\n",
       "BATTERY                                            72688\n",
       "BURGLARY                                           55599\n",
       "PROSTITUTION                                       52659\n",
       "ASSAULT WITH DEADLY WEAPON, AGGRAVATED ASSAULT     46080\n",
       "ROBBERY                                            31570\n",
       "CRIMINAL THREATS                                   19847\n",
       "TRESPASSING                                        11850\n",
       "BRANDISH WEAPON                                    11403\n",
       "VIOLATION OF RESTRAINING ORDER                      9630\n",
       "LETTERS, LEWD                                       7659\n",
       "OTHER MISCELLANEOUS CRIME                           6926\n",
       "VIOLATION OF COURT ORDER                            6479\n",
       "Name: count, dtype: int64"
      ]
     },
     "execution_count": 38,
     "metadata": {},
     "output_type": "execute_result"
    }
   ],
   "source": [
    "df_la['Primary Crime Type'].value_counts()"
   ]
  },
  {
   "cell_type": "code",
   "execution_count": 39,
   "id": "b5dfd201-6fc2-4ccb-b800-429a733c05d4",
   "metadata": {},
   "outputs": [
    {
     "data": {
      "text/html": [
       "<div>\n",
       "<style scoped>\n",
       "    .dataframe tbody tr th:only-of-type {\n",
       "        vertical-align: middle;\n",
       "    }\n",
       "\n",
       "    .dataframe tbody tr th {\n",
       "        vertical-align: top;\n",
       "    }\n",
       "\n",
       "    .dataframe thead th {\n",
       "        text-align: right;\n",
       "    }\n",
       "</style>\n",
       "<table border=\"1\" class=\"dataframe\">\n",
       "  <thead>\n",
       "    <tr style=\"text-align: right;\">\n",
       "      <th></th>\n",
       "      <th>DATE OCC</th>\n",
       "      <th>Rpt Dist No</th>\n",
       "      <th>Crm Cd Desc</th>\n",
       "      <th>Premis Desc</th>\n",
       "      <th>LOCATION</th>\n",
       "      <th>LAT</th>\n",
       "      <th>LON</th>\n",
       "      <th>City</th>\n",
       "      <th>Year</th>\n",
       "      <th>Primary Crime Type</th>\n",
       "      <th>Description</th>\n",
       "    </tr>\n",
       "  </thead>\n",
       "  <tbody>\n",
       "    <tr>\n",
       "      <th>0</th>\n",
       "      <td>2020-01-08</td>\n",
       "      <td>377</td>\n",
       "      <td>BATTERY - SIMPLE ASSAULT</td>\n",
       "      <td>SINGLE FAMILY DWELLING</td>\n",
       "      <td>1100 W  39TH                         PL</td>\n",
       "      <td>34.0141</td>\n",
       "      <td>-118.2978</td>\n",
       "      <td>Los Angeles</td>\n",
       "      <td>2020</td>\n",
       "      <td>BATTERY</td>\n",
       "      <td>SIMPLE ASSAULT</td>\n",
       "    </tr>\n",
       "    <tr>\n",
       "      <th>1</th>\n",
       "      <td>2020-01-01</td>\n",
       "      <td>163</td>\n",
       "      <td>BATTERY - SIMPLE ASSAULT</td>\n",
       "      <td>SIDEWALK</td>\n",
       "      <td>700 S  HILL                         ST</td>\n",
       "      <td>34.0459</td>\n",
       "      <td>-118.2545</td>\n",
       "      <td>Los Angeles</td>\n",
       "      <td>2020</td>\n",
       "      <td>BATTERY</td>\n",
       "      <td>SIMPLE ASSAULT</td>\n",
       "    </tr>\n",
       "  </tbody>\n",
       "</table>\n",
       "</div>"
      ],
      "text/plain": [
       "    DATE OCC  Rpt Dist No               Crm Cd Desc             Premis Desc  \\\n",
       "0 2020-01-08          377  BATTERY - SIMPLE ASSAULT  SINGLE FAMILY DWELLING   \n",
       "1 2020-01-01          163  BATTERY - SIMPLE ASSAULT                SIDEWALK   \n",
       "\n",
       "                                  LOCATION      LAT       LON         City  \\\n",
       "0  1100 W  39TH                         PL  34.0141 -118.2978  Los Angeles   \n",
       "1   700 S  HILL                         ST  34.0459 -118.2545  Los Angeles   \n",
       "\n",
       "   Year Primary Crime Type     Description  \n",
       "0  2020            BATTERY  SIMPLE ASSAULT  \n",
       "1  2020            BATTERY  SIMPLE ASSAULT  "
      ]
     },
     "execution_count": 39,
     "metadata": {},
     "output_type": "execute_result"
    }
   ],
   "source": [
    "df_la.head(2)"
   ]
  },
  {
   "cell_type": "markdown",
   "id": "2945c0c8-54b3-489e-b219-cc3763901baa",
   "metadata": {},
   "source": [
    "Now that I've extracted the crime type and crime description I can drop the Crm Cd Desc column"
   ]
  },
  {
   "cell_type": "code",
   "execution_count": 40,
   "id": "0b6c4db0-08a1-4c02-a44e-45c1c5d0815e",
   "metadata": {},
   "outputs": [
    {
     "data": {
      "text/html": [
       "<div>\n",
       "<style scoped>\n",
       "    .dataframe tbody tr th:only-of-type {\n",
       "        vertical-align: middle;\n",
       "    }\n",
       "\n",
       "    .dataframe tbody tr th {\n",
       "        vertical-align: top;\n",
       "    }\n",
       "\n",
       "    .dataframe thead th {\n",
       "        text-align: right;\n",
       "    }\n",
       "</style>\n",
       "<table border=\"1\" class=\"dataframe\">\n",
       "  <thead>\n",
       "    <tr style=\"text-align: right;\">\n",
       "      <th></th>\n",
       "      <th>DATE OCC</th>\n",
       "      <th>Rpt Dist No</th>\n",
       "      <th>Premis Desc</th>\n",
       "      <th>LOCATION</th>\n",
       "      <th>LAT</th>\n",
       "      <th>LON</th>\n",
       "      <th>City</th>\n",
       "      <th>Year</th>\n",
       "      <th>Primary Crime Type</th>\n",
       "      <th>Description</th>\n",
       "    </tr>\n",
       "  </thead>\n",
       "  <tbody>\n",
       "    <tr>\n",
       "      <th>0</th>\n",
       "      <td>2020-01-08</td>\n",
       "      <td>377</td>\n",
       "      <td>SINGLE FAMILY DWELLING</td>\n",
       "      <td>1100 W  39TH                         PL</td>\n",
       "      <td>34.0141</td>\n",
       "      <td>-118.2978</td>\n",
       "      <td>Los Angeles</td>\n",
       "      <td>2020</td>\n",
       "      <td>BATTERY</td>\n",
       "      <td>SIMPLE ASSAULT</td>\n",
       "    </tr>\n",
       "    <tr>\n",
       "      <th>1</th>\n",
       "      <td>2020-01-01</td>\n",
       "      <td>163</td>\n",
       "      <td>SIDEWALK</td>\n",
       "      <td>700 S  HILL                         ST</td>\n",
       "      <td>34.0459</td>\n",
       "      <td>-118.2545</td>\n",
       "      <td>Los Angeles</td>\n",
       "      <td>2020</td>\n",
       "      <td>BATTERY</td>\n",
       "      <td>SIMPLE ASSAULT</td>\n",
       "    </tr>\n",
       "  </tbody>\n",
       "</table>\n",
       "</div>"
      ],
      "text/plain": [
       "    DATE OCC  Rpt Dist No             Premis Desc  \\\n",
       "0 2020-01-08          377  SINGLE FAMILY DWELLING   \n",
       "1 2020-01-01          163                SIDEWALK   \n",
       "\n",
       "                                  LOCATION      LAT       LON         City  \\\n",
       "0  1100 W  39TH                         PL  34.0141 -118.2978  Los Angeles   \n",
       "1   700 S  HILL                         ST  34.0459 -118.2545  Los Angeles   \n",
       "\n",
       "   Year Primary Crime Type     Description  \n",
       "0  2020            BATTERY  SIMPLE ASSAULT  \n",
       "1  2020            BATTERY  SIMPLE ASSAULT  "
      ]
     },
     "execution_count": 40,
     "metadata": {},
     "output_type": "execute_result"
    }
   ],
   "source": [
    "# drop the Crm Cd Desc column\n",
    "df_la = df_la.drop('Crm Cd Desc', axis=1)\n",
    "df_la.head(2)"
   ]
  },
  {
   "cell_type": "markdown",
   "id": "e8cdb754-1abc-4af9-9aad-78856b6b4b93",
   "metadata": {},
   "source": [
    "Now I'd like to reanme the columns to match the Chicago dataset and then place them in the same order."
   ]
  },
  {
   "cell_type": "code",
   "execution_count": 41,
   "id": "d8a52a1e-1628-4588-8986-67df0498220b",
   "metadata": {},
   "outputs": [
    {
     "data": {
      "text/html": [
       "<div>\n",
       "<style scoped>\n",
       "    .dataframe tbody tr th:only-of-type {\n",
       "        vertical-align: middle;\n",
       "    }\n",
       "\n",
       "    .dataframe tbody tr th {\n",
       "        vertical-align: top;\n",
       "    }\n",
       "\n",
       "    .dataframe thead th {\n",
       "        text-align: right;\n",
       "    }\n",
       "</style>\n",
       "<table border=\"1\" class=\"dataframe\">\n",
       "  <thead>\n",
       "    <tr style=\"text-align: right;\">\n",
       "      <th></th>\n",
       "      <th>Date</th>\n",
       "      <th>Address</th>\n",
       "      <th>Crime Type</th>\n",
       "      <th>Crime Description</th>\n",
       "      <th>Location Description</th>\n",
       "      <th>District</th>\n",
       "      <th>Year</th>\n",
       "      <th>Latitude</th>\n",
       "      <th>Longitude</th>\n",
       "      <th>City</th>\n",
       "    </tr>\n",
       "  </thead>\n",
       "  <tbody>\n",
       "    <tr>\n",
       "      <th>0</th>\n",
       "      <td>2020-01-08</td>\n",
       "      <td>1100 W  39TH                         PL</td>\n",
       "      <td>BATTERY</td>\n",
       "      <td>SIMPLE ASSAULT</td>\n",
       "      <td>SINGLE FAMILY DWELLING</td>\n",
       "      <td>377</td>\n",
       "      <td>2020</td>\n",
       "      <td>34.0141</td>\n",
       "      <td>-118.2978</td>\n",
       "      <td>Los Angeles</td>\n",
       "    </tr>\n",
       "    <tr>\n",
       "      <th>1</th>\n",
       "      <td>2020-01-01</td>\n",
       "      <td>700 S  HILL                         ST</td>\n",
       "      <td>BATTERY</td>\n",
       "      <td>SIMPLE ASSAULT</td>\n",
       "      <td>SIDEWALK</td>\n",
       "      <td>163</td>\n",
       "      <td>2020</td>\n",
       "      <td>34.0459</td>\n",
       "      <td>-118.2545</td>\n",
       "      <td>Los Angeles</td>\n",
       "    </tr>\n",
       "  </tbody>\n",
       "</table>\n",
       "</div>"
      ],
      "text/plain": [
       "        Date                                  Address Crime Type  \\\n",
       "0 2020-01-08  1100 W  39TH                         PL    BATTERY   \n",
       "1 2020-01-01   700 S  HILL                         ST    BATTERY   \n",
       "\n",
       "  Crime Description    Location Description  District  Year  Latitude  \\\n",
       "0    SIMPLE ASSAULT  SINGLE FAMILY DWELLING       377  2020   34.0141   \n",
       "1    SIMPLE ASSAULT                SIDEWALK       163  2020   34.0459   \n",
       "\n",
       "   Longitude         City  \n",
       "0  -118.2978  Los Angeles  \n",
       "1  -118.2545  Los Angeles  "
      ]
     },
     "execution_count": 41,
     "metadata": {},
     "output_type": "execute_result"
    }
   ],
   "source": [
    "# rename the columns in the df_la dataframe\n",
    "df_la = df_la.rename(columns={'DATE OCC': 'Date',\n",
    "                              'Rpt Dist No': 'District',\n",
    "                              'Premis Desc': 'Location Description',\n",
    "                              'LOCATION': 'Address',\n",
    "                              'LAT': 'Latitude',\n",
    "                              'LON': 'Longitude',\n",
    "                              'City': 'City',\n",
    "                              'Year': 'Year',\n",
    "                              'Primary Crime Type': 'Crime Type',\n",
    "                              'Description': 'Crime Description'})\n",
    "\n",
    "# reorder the columns in the df_la dataframe\n",
    "df_la = df_la[['Date', 'Address', 'Crime Type', 'Crime Description', 'Location Description', 'District', 'Year', 'Latitude', 'Longitude','City']]\n",
    "df_la.head(2)"
   ]
  },
  {
   "cell_type": "markdown",
   "id": "8b8e9a41-6bdf-4cd8-a309-3b8cadd13bfd",
   "metadata": {},
   "source": [
    "To verify that the dates in the \"Years\" columns of both dataframes match, let's apply the same \"year_mask\" variable to the LA dataframe."
   ]
  },
  {
   "cell_type": "code",
   "execution_count": 42,
   "id": "2647a61e-9ff0-49fb-81c5-df3e7a780abf",
   "metadata": {},
   "outputs": [
    {
     "data": {
      "text/html": [
       "<div>\n",
       "<style scoped>\n",
       "    .dataframe tbody tr th:only-of-type {\n",
       "        vertical-align: middle;\n",
       "    }\n",
       "\n",
       "    .dataframe tbody tr th {\n",
       "        vertical-align: top;\n",
       "    }\n",
       "\n",
       "    .dataframe thead th {\n",
       "        text-align: right;\n",
       "    }\n",
       "</style>\n",
       "<table border=\"1\" class=\"dataframe\">\n",
       "  <thead>\n",
       "    <tr style=\"text-align: right;\">\n",
       "      <th></th>\n",
       "      <th>Date</th>\n",
       "      <th>Address</th>\n",
       "      <th>Crime Type</th>\n",
       "      <th>Crime Description</th>\n",
       "      <th>Location Description</th>\n",
       "      <th>District</th>\n",
       "      <th>Year</th>\n",
       "      <th>Latitude</th>\n",
       "      <th>Longitude</th>\n",
       "      <th>City</th>\n",
       "    </tr>\n",
       "  </thead>\n",
       "  <tbody>\n",
       "    <tr>\n",
       "      <th>0</th>\n",
       "      <td>2020-01-01</td>\n",
       "      <td>6200    SCENIC                       AV</td>\n",
       "      <td>BURGLARY</td>\n",
       "      <td></td>\n",
       "      <td>SINGLE FAMILY DWELLING</td>\n",
       "      <td>628</td>\n",
       "      <td>2020</td>\n",
       "      <td>34.1104</td>\n",
       "      <td>-118.3235</td>\n",
       "      <td>Los Angeles</td>\n",
       "    </tr>\n",
       "    <tr>\n",
       "      <th>1</th>\n",
       "      <td>2020-01-01</td>\n",
       "      <td>3900    COLLIS                       AV</td>\n",
       "      <td>LETTERS, LEWD</td>\n",
       "      <td>TELEPHONE CALLS, LEWD</td>\n",
       "      <td>SINGLE FAMILY DWELLING</td>\n",
       "      <td>407</td>\n",
       "      <td>2020</td>\n",
       "      <td>34.0911</td>\n",
       "      <td>-118.1825</td>\n",
       "      <td>Los Angeles</td>\n",
       "    </tr>\n",
       "    <tr>\n",
       "      <th>2</th>\n",
       "      <td>2020-01-01</td>\n",
       "      <td>1300    MARINE                       AV</td>\n",
       "      <td>THEFT</td>\n",
       "      <td></td>\n",
       "      <td>OTHER BUSINESS</td>\n",
       "      <td>516</td>\n",
       "      <td>2020</td>\n",
       "      <td>33.7888</td>\n",
       "      <td>-118.2644</td>\n",
       "      <td>Los Angeles</td>\n",
       "    </tr>\n",
       "    <tr>\n",
       "      <th>3</th>\n",
       "      <td>2020-01-01</td>\n",
       "      <td>1500    252ND                        ST</td>\n",
       "      <td>OTHER</td>\n",
       "      <td>SIMPLE ASSAULT</td>\n",
       "      <td>SINGLE FAMILY DWELLING</td>\n",
       "      <td>511</td>\n",
       "      <td>2020</td>\n",
       "      <td>33.7957</td>\n",
       "      <td>-118.3027</td>\n",
       "      <td>Los Angeles</td>\n",
       "    </tr>\n",
       "    <tr>\n",
       "      <th>4</th>\n",
       "      <td>2020-01-01</td>\n",
       "      <td>4800    TWINING                      ST</td>\n",
       "      <td>THEFT</td>\n",
       "      <td></td>\n",
       "      <td>SINGLE FAMILY DWELLING</td>\n",
       "      <td>427</td>\n",
       "      <td>2020</td>\n",
       "      <td>34.0836</td>\n",
       "      <td>-118.1800</td>\n",
       "      <td>Los Angeles</td>\n",
       "    </tr>\n",
       "  </tbody>\n",
       "</table>\n",
       "</div>"
      ],
      "text/plain": [
       "        Date                                  Address      Crime Type  \\\n",
       "0 2020-01-01  6200    SCENIC                       AV        BURGLARY   \n",
       "1 2020-01-01  3900    COLLIS                       AV  LETTERS, LEWD    \n",
       "2 2020-01-01  1300    MARINE                       AV           THEFT   \n",
       "3 2020-01-01  1500    252ND                        ST           OTHER   \n",
       "4 2020-01-01  4800    TWINING                      ST           THEFT   \n",
       "\n",
       "        Crime Description    Location Description  District  Year  Latitude  \\\n",
       "0                          SINGLE FAMILY DWELLING       628  2020   34.1104   \n",
       "1   TELEPHONE CALLS, LEWD  SINGLE FAMILY DWELLING       407  2020   34.0911   \n",
       "2                                  OTHER BUSINESS       516  2020   33.7888   \n",
       "3          SIMPLE ASSAULT  SINGLE FAMILY DWELLING       511  2020   33.7957   \n",
       "4                          SINGLE FAMILY DWELLING       427  2020   34.0836   \n",
       "\n",
       "   Longitude         City  \n",
       "0  -118.3235  Los Angeles  \n",
       "1  -118.1825  Los Angeles  \n",
       "2  -118.2644  Los Angeles  \n",
       "3  -118.3027  Los Angeles  \n",
       "4  -118.1800  Los Angeles  "
      ]
     },
     "execution_count": 42,
     "metadata": {},
     "output_type": "execute_result"
    }
   ],
   "source": [
    "# sort by these years\n",
    "year_mask = (df_la['Year'] >= 2020) & (df_la['Year'] <=2023)\n",
    "df_la = df_la[year_mask]\n",
    "df_la.head()\n",
    "\n",
    "# sort by date column\n",
    "df_la = df_la.sort_values(by='Date')\n",
    "df_la.head()\n",
    "\n",
    "# reset the index\n",
    "df_la = df_la.reset_index(drop=True)\n",
    "df_la.head()"
   ]
  },
  {
   "cell_type": "markdown",
   "id": "94b37e93-8c49-4a30-9cae-8b709c57b7c1",
   "metadata": {},
   "source": [
    "Lets take one last look at both datasets using the .info method."
   ]
  },
  {
   "cell_type": "code",
   "execution_count": 43,
   "id": "6f2b7e5d-8cd4-4415-a131-36c5018b7bda",
   "metadata": {},
   "outputs": [
    {
     "name": "stdout",
     "output_type": "stream",
     "text": [
      "<class 'pandas.core.frame.DataFrame'>\n",
      "RangeIndex: 915436 entries, 0 to 915435\n",
      "Data columns (total 10 columns):\n",
      " #   Column                Non-Null Count   Dtype         \n",
      "---  ------                --------------   -----         \n",
      " 0   Date                  915436 non-null  datetime64[ns]\n",
      " 1   Address               915436 non-null  object        \n",
      " 2   Crime Type            915436 non-null  category      \n",
      " 3   Crime Description     915436 non-null  category      \n",
      " 4   Location Description  910524 non-null  category      \n",
      " 5   District              915436 non-null  float64       \n",
      " 6   Year                  915436 non-null  int64         \n",
      " 7   Latitude              900702 non-null  float64       \n",
      " 8   Longitude             900702 non-null  float64       \n",
      " 9   City                  915436 non-null  object        \n",
      "dtypes: category(3), datetime64[ns](1), float64(3), int64(1), object(2)\n",
      "memory usage: 51.5+ MB\n"
     ]
    }
   ],
   "source": [
    "df_chi.info()"
   ]
  },
  {
   "cell_type": "code",
   "execution_count": 44,
   "id": "00babd70-e1a7-43a1-9a81-2c0f12c86cb8",
   "metadata": {},
   "outputs": [
    {
     "name": "stdout",
     "output_type": "stream",
     "text": [
      "<class 'pandas.core.frame.DataFrame'>\n",
      "RangeIndex: 621492 entries, 0 to 621491\n",
      "Data columns (total 10 columns):\n",
      " #   Column                Non-Null Count   Dtype         \n",
      "---  ------                --------------   -----         \n",
      " 0   Date                  621492 non-null  datetime64[ns]\n",
      " 1   Address               621492 non-null  object        \n",
      " 2   Crime Type            621492 non-null  object        \n",
      " 3   Crime Description     621492 non-null  object        \n",
      " 4   Location Description  620997 non-null  object        \n",
      " 5   District              621492 non-null  int64         \n",
      " 6   Year                  621492 non-null  int32         \n",
      " 7   Latitude              621492 non-null  float64       \n",
      " 8   Longitude             621492 non-null  float64       \n",
      " 9   City                  621492 non-null  object        \n",
      "dtypes: datetime64[ns](1), float64(2), int32(1), int64(1), object(5)\n",
      "memory usage: 45.0+ MB\n"
     ]
    }
   ],
   "source": [
    "df_la.info()"
   ]
  },
  {
   "cell_type": "markdown",
   "id": "0f64d7cf-5e13-4c8c-908f-aecf75e06d42",
   "metadata": {},
   "source": [
    "Finally lets combine the datasets"
   ]
  },
  {
   "cell_type": "code",
   "execution_count": 45,
   "id": "be453ff0-6571-4730-8a95-1272e826dd35",
   "metadata": {},
   "outputs": [
    {
     "data": {
      "text/html": [
       "<div>\n",
       "<style scoped>\n",
       "    .dataframe tbody tr th:only-of-type {\n",
       "        vertical-align: middle;\n",
       "    }\n",
       "\n",
       "    .dataframe tbody tr th {\n",
       "        vertical-align: top;\n",
       "    }\n",
       "\n",
       "    .dataframe thead th {\n",
       "        text-align: right;\n",
       "    }\n",
       "</style>\n",
       "<table border=\"1\" class=\"dataframe\">\n",
       "  <thead>\n",
       "    <tr style=\"text-align: right;\">\n",
       "      <th></th>\n",
       "      <th>Date</th>\n",
       "      <th>Address</th>\n",
       "      <th>Crime Type</th>\n",
       "      <th>Crime Description</th>\n",
       "      <th>Location Description</th>\n",
       "      <th>District</th>\n",
       "      <th>Year</th>\n",
       "      <th>Latitude</th>\n",
       "      <th>Longitude</th>\n",
       "      <th>City</th>\n",
       "    </tr>\n",
       "  </thead>\n",
       "  <tbody>\n",
       "    <tr>\n",
       "      <th>16465</th>\n",
       "      <td>2020-01-20</td>\n",
       "      <td>4800 W  VENICE                       BL</td>\n",
       "      <td>OTHER MISCELLANEOUS CRIME</td>\n",
       "      <td></td>\n",
       "      <td>POLICE FACILITY</td>\n",
       "      <td>765.0</td>\n",
       "      <td>2020</td>\n",
       "      <td>34.046600</td>\n",
       "      <td>-118.341400</td>\n",
       "      <td>Los Angeles</td>\n",
       "    </tr>\n",
       "    <tr>\n",
       "      <th>693693</th>\n",
       "      <td>2022-04-20</td>\n",
       "      <td>008XX W 33RD PL</td>\n",
       "      <td>SEX OFFENSE</td>\n",
       "      <td>OTHER</td>\n",
       "      <td>APARTMENT</td>\n",
       "      <td>9.0</td>\n",
       "      <td>2022</td>\n",
       "      <td>41.833821</td>\n",
       "      <td>-87.647280</td>\n",
       "      <td>Chicago</td>\n",
       "    </tr>\n",
       "    <tr>\n",
       "      <th>317973</th>\n",
       "      <td>2021-02-25</td>\n",
       "      <td>001XX E 44TH ST</td>\n",
       "      <td>WEAPONS VIOLATION</td>\n",
       "      <td>OTHER</td>\n",
       "      <td>STREET</td>\n",
       "      <td>2.0</td>\n",
       "      <td>2021</td>\n",
       "      <td>41.814746</td>\n",
       "      <td>-87.621765</td>\n",
       "      <td>Chicago</td>\n",
       "    </tr>\n",
       "    <tr>\n",
       "      <th>1388350</th>\n",
       "      <td>2023-09-21</td>\n",
       "      <td>5100    INGLEWOOD                    BL</td>\n",
       "      <td>THEFT</td>\n",
       "      <td>PETTY ($950 &amp; UNDER)</td>\n",
       "      <td>MULTI-UNIT DWELLING (APARTMENT, DUPLEX, ETC)</td>\n",
       "      <td>1465.0</td>\n",
       "      <td>2023</td>\n",
       "      <td>33.989600</td>\n",
       "      <td>-118.411400</td>\n",
       "      <td>Los Angeles</td>\n",
       "    </tr>\n",
       "    <tr>\n",
       "      <th>565577</th>\n",
       "      <td>2021-11-15</td>\n",
       "      <td>DALTON                       AV</td>\n",
       "      <td>CRIMINAL THREATS</td>\n",
       "      <td>NO WEAPON DISPLAYED</td>\n",
       "      <td>STREET</td>\n",
       "      <td>337.0</td>\n",
       "      <td>2021</td>\n",
       "      <td>34.027300</td>\n",
       "      <td>-118.304000</td>\n",
       "      <td>Los Angeles</td>\n",
       "    </tr>\n",
       "  </tbody>\n",
       "</table>\n",
       "</div>"
      ],
      "text/plain": [
       "              Date                                  Address  \\\n",
       "16465   2020-01-20  4800 W  VENICE                       BL   \n",
       "693693  2022-04-20                          008XX W 33RD PL   \n",
       "317973  2021-02-25                          001XX E 44TH ST   \n",
       "1388350 2023-09-21  5100    INGLEWOOD                    BL   \n",
       "565577  2021-11-15          DALTON                       AV   \n",
       "\n",
       "                        Crime Type     Crime Description  \\\n",
       "16465    OTHER MISCELLANEOUS CRIME                         \n",
       "693693                 SEX OFFENSE                 OTHER   \n",
       "317973           WEAPONS VIOLATION                 OTHER   \n",
       "1388350                      THEFT  PETTY ($950 & UNDER)   \n",
       "565577            CRIMINAL THREATS   NO WEAPON DISPLAYED   \n",
       "\n",
       "                                 Location Description  District  Year  \\\n",
       "16465                                 POLICE FACILITY     765.0  2020   \n",
       "693693                                      APARTMENT       9.0  2022   \n",
       "317973                                         STREET       2.0  2021   \n",
       "1388350  MULTI-UNIT DWELLING (APARTMENT, DUPLEX, ETC)    1465.0  2023   \n",
       "565577                                         STREET     337.0  2021   \n",
       "\n",
       "          Latitude   Longitude         City  \n",
       "16465    34.046600 -118.341400  Los Angeles  \n",
       "693693   41.833821  -87.647280      Chicago  \n",
       "317973   41.814746  -87.621765      Chicago  \n",
       "1388350  33.989600 -118.411400  Los Angeles  \n",
       "565577   34.027300 -118.304000  Los Angeles  "
      ]
     },
     "execution_count": 45,
     "metadata": {},
     "output_type": "execute_result"
    }
   ],
   "source": [
    "df_chi_la_combined = pd.concat([df_chi, df_la], ignore_index=True)\n",
    "df_chi_la_combined = df_chi_la_combined.sort_values(by='Date').reset_index(drop=True)\n",
    "df_chi_la_combined.sample(5, random_state=3)"
   ]
  },
  {
   "cell_type": "markdown",
   "id": "672eeaca-929f-49b5-bda3-9cd5802261ab",
   "metadata": {},
   "source": [
    "Lets save our cleaned and combined dataset"
   ]
  },
  {
   "cell_type": "code",
   "execution_count": null,
   "id": "4c7956a0-4f52-4bb4-be4b-79ba2007648f",
   "metadata": {},
   "outputs": [],
   "source": [
    "df_chi_la_combined.to_csv(r'C:\\Users\\james_bimler\\pandas\\Udacity\\Class_2\\Final\\df_chi_la_combined.csv', index=False)"
   ]
  },
  {
   "cell_type": "code",
   "execution_count": 47,
   "id": "5b6e0ad0-c5ce-4a84-a977-849642cde0d1",
   "metadata": {},
   "outputs": [
    {
     "name": "stdout",
     "output_type": "stream",
     "text": [
      "<class 'pandas.core.frame.DataFrame'>\n",
      "RangeIndex: 1536928 entries, 0 to 1536927\n",
      "Data columns (total 10 columns):\n",
      " #   Column                Non-Null Count    Dtype         \n",
      "---  ------                --------------    -----         \n",
      " 0   Date                  1536928 non-null  datetime64[ns]\n",
      " 1   Address               1536928 non-null  object        \n",
      " 2   Crime Type            1536928 non-null  object        \n",
      " 3   Crime Description     1536928 non-null  object        \n",
      " 4   Location Description  1531521 non-null  object        \n",
      " 5   District              1536928 non-null  float64       \n",
      " 6   Year                  1536928 non-null  int64         \n",
      " 7   Latitude              1522194 non-null  float64       \n",
      " 8   Longitude             1522194 non-null  float64       \n",
      " 9   City                  1536928 non-null  object        \n",
      "dtypes: datetime64[ns](1), float64(3), int64(1), object(5)\n",
      "memory usage: 117.3+ MB\n"
     ]
    }
   ],
   "source": [
    "df_chi_la_combined.info()"
   ]
  },
  {
   "cell_type": "markdown",
   "id": "124323d3-aa73-4df6-810c-db92cb9f8f32",
   "metadata": {},
   "source": [
    "The `df_chi` and `df_la` datasets have been combined and our new dataset looks good. Lets move on to the exploratory data analysis portion of this project`m"
   ]
  },
  {
   "cell_type": "markdown",
   "id": "9b12474d-1e61-4efb-9624-3440ff9de597",
   "metadata": {},
   "source": [
    "<a id='eda'></a>\n",
    "### Exploratory Data Analysis\n",
    "\n",
    "#### Question 1: Investigate and compare the overall crime rates between Chicago and Los Angeles over the specified period.\n",
    "\n",
    "The investigation aims to assess and contrast the overall crime rates in Chicago and Los Angeles throughout the specified timeframe. Initially, the analysis will rank the cities based on their crime rates in the years 2020 to 2023, shedding light on the initial patterns in criminal activity. Subsequently, the focus will shift towards identifying per capita trends and trying to pull out trends or changes in the data. \n",
    "\n",
    "The following code aims to visualize the disparities in total crimes between Chicago and LA. Initially, the yearly data is filtered to ensure the correct years are selected. Subsequently, crime counts are calculated by grouping the 'Year' column and determining total occurrences. The data is then merged using an outer join."
   ]
  },
  {
   "cell_type": "code",
   "execution_count": 48,
   "id": "e2f2716c-d424-4712-859a-0f6967457bb6",
   "metadata": {},
   "outputs": [
    {
     "data": {
      "text/html": [
       "<div>\n",
       "<style scoped>\n",
       "    .dataframe tbody tr th:only-of-type {\n",
       "        vertical-align: middle;\n",
       "    }\n",
       "\n",
       "    .dataframe tbody tr th {\n",
       "        vertical-align: top;\n",
       "    }\n",
       "\n",
       "    .dataframe thead th {\n",
       "        text-align: right;\n",
       "    }\n",
       "</style>\n",
       "<table border=\"1\" class=\"dataframe\">\n",
       "  <thead>\n",
       "    <tr style=\"text-align: right;\">\n",
       "      <th>City</th>\n",
       "      <th>Year</th>\n",
       "      <th>Chicago</th>\n",
       "      <th>Los Angeles</th>\n",
       "    </tr>\n",
       "  </thead>\n",
       "  <tbody>\n",
       "    <tr>\n",
       "      <th>0</th>\n",
       "      <td>2020</td>\n",
       "      <td>212289</td>\n",
       "      <td>60202</td>\n",
       "    </tr>\n",
       "    <tr>\n",
       "      <th>1</th>\n",
       "      <td>2021</td>\n",
       "      <td>208998</td>\n",
       "      <td>124292</td>\n",
       "    </tr>\n",
       "    <tr>\n",
       "      <th>2</th>\n",
       "      <td>2022</td>\n",
       "      <td>239099</td>\n",
       "      <td>90934</td>\n",
       "    </tr>\n",
       "    <tr>\n",
       "      <th>3</th>\n",
       "      <td>2023</td>\n",
       "      <td>255050</td>\n",
       "      <td>346064</td>\n",
       "    </tr>\n",
       "  </tbody>\n",
       "</table>\n",
       "</div>"
      ],
      "text/plain": [
       "City  Year  Chicago  Los Angeles\n",
       "0     2020   212289        60202\n",
       "1     2021   208998       124292\n",
       "2     2022   239099        90934\n",
       "3     2023   255050       346064"
      ]
     },
     "execution_count": 48,
     "metadata": {},
     "output_type": "execute_result"
    }
   ],
   "source": [
    "# Filter data for the years 2020 through 2023 \n",
    "df_chi_la_combined = df_chi_la_combined[df_chi_la_combined['Year'].between(2020, 2023)] \n",
    "\n",
    "# Grouping data by 'Year' and 'City' and counting the number of occurrences \n",
    "crime_counts = df_chi_la_combined.groupby(['Year', 'City']).size().reset_index(name='Crime Count') \n",
    "\n",
    "# Pivot the table to have separate columns for Chicago and Los Angeles \n",
    "crime_comparison = crime_counts.pivot(index='Year', columns='City', values='Crime Count').reset_index() \n",
    "\n",
    "# Displaying the result \n",
    "crime_comparison.head() "
   ]
  },
  {
   "cell_type": "markdown",
   "id": "c2a7ea8e-41fe-4ad1-af85-f10be3e7ecbc",
   "metadata": {},
   "source": [
    "The code below uses the value_counts function to count the occurrences of each crime type and then selects the top ten using the nlargest function. The results are the top crime types for both Chicago and Los Angeles."
   ]
  },
  {
   "cell_type": "code",
   "execution_count": 49,
   "id": "64db8254-f63c-410f-b4f0-096193459303",
   "metadata": {},
   "outputs": [
    {
     "data": {
      "text/html": [
       "<div>\n",
       "<style scoped>\n",
       "    .dataframe tbody tr th:only-of-type {\n",
       "        vertical-align: middle;\n",
       "    }\n",
       "\n",
       "    .dataframe tbody tr th {\n",
       "        vertical-align: top;\n",
       "    }\n",
       "\n",
       "    .dataframe thead th {\n",
       "        text-align: right;\n",
       "    }\n",
       "</style>\n",
       "<table border=\"1\" class=\"dataframe\">\n",
       "  <thead>\n",
       "    <tr style=\"text-align: right;\">\n",
       "      <th>City</th>\n",
       "      <th>Year</th>\n",
       "      <th>Chicago</th>\n",
       "      <th>Los Angeles</th>\n",
       "      <th>Chicago Crime Rate per 100,000</th>\n",
       "      <th>Los Angeles Crime Rate per 100,000</th>\n",
       "    </tr>\n",
       "  </thead>\n",
       "  <tbody>\n",
       "    <tr>\n",
       "      <th>0</th>\n",
       "      <td>2020</td>\n",
       "      <td>212289</td>\n",
       "      <td>60202</td>\n",
       "      <td>2391.449814</td>\n",
       "      <td>483.200899</td>\n",
       "    </tr>\n",
       "    <tr>\n",
       "      <th>1</th>\n",
       "      <td>2021</td>\n",
       "      <td>208998</td>\n",
       "      <td>124292</td>\n",
       "      <td>2348.028311</td>\n",
       "      <td>995.291480</td>\n",
       "    </tr>\n",
       "    <tr>\n",
       "      <th>2</th>\n",
       "      <td>2022</td>\n",
       "      <td>239099</td>\n",
       "      <td>90934</td>\n",
       "      <td>2675.383238</td>\n",
       "      <td>725.498644</td>\n",
       "    </tr>\n",
       "    <tr>\n",
       "      <th>3</th>\n",
       "      <td>2023</td>\n",
       "      <td>255050</td>\n",
       "      <td>346064</td>\n",
       "      <td>2838.935886</td>\n",
       "      <td>2746.975710</td>\n",
       "    </tr>\n",
       "  </tbody>\n",
       "</table>\n",
       "</div>"
      ],
      "text/plain": [
       "City  Year  Chicago  Los Angeles  Chicago Crime Rate per 100,000  \\\n",
       "0     2020   212289        60202                     2391.449814   \n",
       "1     2021   208998       124292                     2348.028311   \n",
       "2     2022   239099        90934                     2675.383238   \n",
       "3     2023   255050       346064                     2838.935886   \n",
       "\n",
       "City  Los Angeles Crime Rate per 100,000  \n",
       "0                             483.200899  \n",
       "1                             995.291480  \n",
       "2                             725.498644  \n",
       "3                            2746.975710  "
      ]
     },
     "execution_count": 49,
     "metadata": {},
     "output_type": "execute_result"
    }
   ],
   "source": [
    "# Population data for both cities \n",
    "population_data = {\n",
    "    'Chicago': [8877000, 8901000, 8937000, 8984000], \n",
    "    'Los Angeles': [12459000, 12488000, 12534000, 12598000] \n",
    "} \n",
    "\n",
    "# Filter data for the years 2020 through 2023 \n",
    "df_combined_filtered = df_chi_la_combined[df_chi_la_combined['Year'].between(2020, 2023)] \n",
    "\n",
    "# Grouping data by 'Year' and 'City' and counting the number of occurrences \n",
    "crime_counts = df_combined_filtered.groupby(['Year', 'City']).size().reset_index(name='Crime Count') \n",
    "\n",
    "# Pivot the table to have separate columns for Chicago and Los Angeles \n",
    "crime_comparison = crime_counts.pivot(index='Year', columns='City', values='Crime Count').reset_index() \n",
    "\n",
    "# Calculate per capita crime rates per 100,000 population \n",
    "for city in population_data.keys(): \n",
    "    crime_comparison[f'{city} Crime Rate per 100,000'] = (crime_comparison[city] / population_data[city]) * 100000 \n",
    "    \n",
    "# Displaying the result \n",
    "crime_comparison.head() "
   ]
  },
  {
   "cell_type": "markdown",
   "id": "52fd7db8-8f25-407c-b372-cc68edc646bb",
   "metadata": {},
   "source": [
    "The code utilizes matplotlib to generate a bar chart comparing the per capita crime rates per 100,000 population for Chicago and Los Angeles from 2020 to 2023."
   ]
  },
  {
   "cell_type": "code",
   "execution_count": 50,
   "id": "7e86c0f2-c2f1-4da5-9240-6956aca96594",
   "metadata": {},
   "outputs": [
    {
     "data": {
      "image/png": "[encoded data removed]",
      "text/plain": [
       "<Figure size 1000x600 with 1 Axes>"
      ]
     },
     "metadata": {},
     "output_type": "display_data"
    }
   ],
   "source": [
    "# Taking Chicago and LA population numbers and importing them into a variable \n",
    "chicago_population = [8877000, 8901000, 8937000, 8984000]  # Population for 2020, 2021, 2022, 2023 \n",
    "la_population = [12459000, 12488000, 12534000, 12598000]  # Population for 2020, 2021, 2022, 2023 \n",
    "\n",
    "# Filter data for the years 2020 through 2023 \n",
    "df_chi_la_filtered = df_chi_la_combined[df_chi_la_combined['Year'].between(2020, 2023)] \n",
    "\n",
    "# Grouping data by 'Year' and counting the number of occurrences \n",
    "crime_counts = df_chi_la_filtered.groupby(['Year', 'City']).size().reset_index(name='Crime Count') \n",
    "\n",
    "# Pivot the table to have separate columns for Chicago and Los Angeles \n",
    "crime_comparison = crime_counts.pivot(index='Year', columns='City', values='Crime Count').reset_index() \n",
    "\n",
    "# Calculate per capita crime rates per 100,000 population \n",
    "crime_comparison['Chicago Crime Rate per 100,000'] = (crime_comparison['Chicago'] / chicago_population) * 100000 \n",
    "crime_comparison['Los Angeles Crime Rate per 100,000'] = (crime_comparison['Los Angeles'] / la_population) * 100000 \n",
    "\n",
    "# Plotting the per capita crime rates for Chicago and Los Angeles \n",
    "plt.figure(figsize=(10, 6)) \n",
    "plt.bar(crime_comparison['Year'], crime_comparison['Chicago Crime Rate per 100,000'], label='Chicago') \n",
    "plt.bar(crime_comparison['Year'], crime_comparison['Los Angeles Crime Rate per 100,000'], label='Los Angeles', alpha=0.7) \n",
    "\n",
    "# Adding labels and title \n",
    "plt.xlabel('Year') \n",
    "plt.ylabel('Per Capita Crime Rate per 100,000') \n",
    "plt.title('Per Capita Crime Rates for Chicago and Los Angeles (2020-2023)') \n",
    "\n",
    "# Adding legend \n",
    "plt.legend() \n",
    "\n",
    "# Setting x-axis ticks to display rounded years \n",
    "plt.xticks([2020, 2021, 2022, 2023]) \n",
    "\n",
    "# Displaying the plot \n",
    "plt.show() "
   ]
  },
  {
   "cell_type": "markdown",
   "id": "f46c5b3d-9ab5-431b-a8f7-846fd0518d90",
   "metadata": {},
   "source": [
    "The analysis reveals that Chicago consistently exhibited higher crime rates per 100,000 residents compared to Los Angeles over the specified period, with both cities showing fluctuations in crime rates across the years, and Los Angeles experiencing a notable increase in 2023. Consideration of factors like population density and socioeconomic conditions is crucial for a comprehensive understanding of these findings."
   ]
  },
  {
   "cell_type": "markdown",
   "id": "cd67116f-0835-43d7-94bc-63cd8ccc3709",
   "metadata": {},
   "source": [
    "### Question 2: Uncover trends in specific types of crimes, identifying patterns of increase or decrease over the years.\n",
    "\n",
    "Let's dive into crime trends in Chicago and Los Angeles! We'll start by comparing overall crime rates from 2020 to 2023, giving us a snapshot of the initial patterns. Then, we'll zoom in to spot any increases or decreases in specific types of crimes over the years. Join me on this journey through the data as we uncover the stories it holds.\n",
    "\n",
    "The code below integrates population data with crime statistics for Chicago and Los Angeles from 2020 to 2023, calculating and comparing per capita crime rates per 100,000 population and presenting the result in a merged DataFrame."
   ]
  },
  {
   "cell_type": "code",
   "execution_count": 51,
   "id": "c94b1702-a558-4949-b660-8f76fc4701e3",
   "metadata": {},
   "outputs": [
    {
     "name": "stdout",
     "output_type": "stream",
     "text": [
      "Top ten crime types in Chicago:\n",
      "Crime Type\n",
      "THEFT                  192896\n",
      "BATTERY                166215\n",
      "CRIMINAL DAMAGE        106630\n",
      "ASSAULT                 81525\n",
      "MOTOR VEHICLE THEFT     70642\n",
      "DECEPTIVE PRACTICE      68165\n",
      "OTHER OFFENSE           56282\n",
      "ROBBERY                 35572\n",
      "WEAPONS VIOLATION       34650\n",
      "BURGLARY                30289\n",
      "Name: count, dtype: int64\n",
      "\n",
      "Top ten crime types in Los Angeles:\n",
      "Crime Type\n",
      "MOTOR VEHICLE THEFT                               155606\n",
      "THEFT                                             120067\n",
      "VANDALISM                                          53335\n",
      "BATTERY                                            52188\n",
      "OTHER                                              51362\n",
      "PROSTITUTION                                       38930\n",
      "BURGLARY                                           37120\n",
      "ASSAULT WITH DEADLY WEAPON, AGGRAVATED ASSAULT     36411\n",
      "ROBBERY                                            22057\n",
      "CRIMINAL THREATS                                   13265\n",
      "Name: count, dtype: int64\n"
     ]
    }
   ],
   "source": [
    "# Top ten crime types in Chicago \n",
    "top_chi_crime_types = df_chi_la_combined[df_chi_la_combined['City'] == 'Chicago']['Crime Type'].value_counts().nlargest(10) \n",
    "\n",
    "# Top ten crime types in Los Angeles \n",
    "top_la_crime_types = df_chi_la_combined[df_chi_la_combined['City'] == 'Los Angeles']['Crime Type'].value_counts().nlargest(10) \n",
    "\n",
    "# Displaying the results \n",
    "print(\"Top ten crime types in Chicago:\") \n",
    "print(top_chi_crime_types) \n",
    "\n",
    "print(\"\\nTop ten crime types in Los Angeles:\") \n",
    "print(top_la_crime_types) "
   ]
  },
  {
   "cell_type": "markdown",
   "id": "77fe890a-6fad-4b8b-b380-9e8569224064",
   "metadata": {},
   "source": [
    "The below code will create a bar chart that compares the top ten crime types for both Chicago and Los Angeles. "
   ]
  },
  {
   "cell_type": "code",
   "execution_count": 52,
   "id": "eb997eb8-15da-4387-a69c-30bc8e22ada3",
   "metadata": {},
   "outputs": [
    {
     "data": {
      "image/png": "[encoded data removed]",
      "text/plain": [
       "<Figure size 1200x800 with 1 Axes>"
      ]
     },
     "metadata": {},
     "output_type": "display_data"
    }
   ],
   "source": [
    "# Plotting the horizontal bar chart \n",
    "plt.figure(figsize=(12, 8)) \n",
    "plt.barh(top_chi_crime_types.index, top_chi_crime_types, label='Chicago', alpha=0.7) \n",
    "plt.barh(top_la_crime_types.index, top_la_crime_types, label='Los Angeles', alpha=0.7) \n",
    "\n",
    "# Adding labels and title \n",
    "plt.xlabel('Number of Occurrences') \n",
    "plt.ylabel('Crime Type') \n",
    "plt.title('Top Ten Crime Types in Chicago and Los Angeles') \n",
    "\n",
    "# Adding a legend \n",
    "plt.legend() \n",
    "\n",
    "# Displaying the plot \n",
    "plt.show() "
   ]
  },
  {
   "cell_type": "markdown",
   "id": "42bb1d21-8d35-4a17-96aa-abe7ac4eb34e",
   "metadata": {},
   "source": [
    "For ease of viewing, I have selected to showcase the top 3 crime types for both Chicago and Los Angeles for the years 2020 - 2023. The code, provided below, meticulously identifies and displays the most prevalent crime categories in each city. Subsequently, it visualizes the yearly trend analysis for each of the top 3 crime types, unraveling patterns and variations in criminal activity over the specified timeframe. The resulting line plot utilizes markers to distinctly represent occurrences, offering a comprehensive perspective on how these selected crime types have evolved in both Chicago and Los Angeles."
   ]
  },
  {
   "cell_type": "code",
   "execution_count": 53,
   "id": "ccf7129a-bc0c-421e-a744-32c5bce4994c",
   "metadata": {},
   "outputs": [
    {
     "data": {
      "image/png": "[encoded data removed]",
      "text/plain": [
       "<Figure size 1200x600 with 1 Axes>"
      ]
     },
     "metadata": {},
     "output_type": "display_data"
    }
   ],
   "source": [
    "# Get the top 3 crime types for Chicago \n",
    "top3_chi_crime_types = df_chi_la_combined[df_chi_la_combined['City'] == 'Chicago']['Crime Type'].value_counts().nlargest(3) \n",
    "\n",
    "# Get the top 3 crime types for Los Angeles \n",
    "top3_la_crime_types = df_chi_la_combined[df_chi_la_combined['City'] == 'Los Angeles']['Crime Type'].value_counts().nlargest(3) \n",
    "\n",
    "# Plotting the yearly trend analysis for the top 3 crime types \n",
    "plt.figure(figsize=(12, 6)) \n",
    "\n",
    "# Chicago \n",
    "for crime_type in top3_chi_crime_types.index: \n",
    "    chi_data = df_chi_la_combined[(df_chi_la_combined['Crime Type'] == crime_type) & df_chi_la_combined['Year'].between(2020, 2023)] \n",
    "    chi_data_grouped = chi_data.groupby('Year').size() \n",
    "    plt.plot(chi_data_grouped.index, chi_data_grouped, label=f'Chicago - {crime_type}', marker='o') \n",
    "\n",
    "# Los Angeles \n",
    "for crime_type in top3_la_crime_types.index: \n",
    "    la_data = df_chi_la_combined[(df_chi_la_combined['Crime Type'] == crime_type) & df_chi_la_combined['Year'].between(2020, 2023)] \n",
    "    la_data_grouped = la_data.groupby('Year').size() \n",
    "    plt.plot(la_data_grouped.index, la_data_grouped, label=f'Los Angeles - {crime_type}', marker='o') \n",
    "\n",
    "# Adding labels and title \n",
    "plt.xlabel('Year') \n",
    "plt.ylabel('Number of Occurrences') \n",
    "plt.title('Yearly Trend Analysis for Top 3 Crime Types in Chicago and Los Angeles (2020-2023)') \n",
    "\n",
    "# Adding legend \n",
    "plt.legend() \n",
    "\n",
    "# Setting x-axis ticks as whole numbers \n",
    "plt.xticks(np.arange(2020, 2024, 1)) \n",
    "\n",
    "# Displaying the plot \n",
    "plt.show() "
   ]
  },
  {
   "attachments": {},
   "cell_type": "markdown",
   "id": "6a6cb137-f269-4da5-b53c-81bdbfeff6ff",
   "metadata": {},
   "source": [
    "Due to discrepancies in how Los Angeles categorizes crime types, there are numerous conflicting categories that may correspond to comparable crimes in the Chicago dataset. This presents a limitation in the analysis. Nevertheless, similarities in the top 10 crimes per city are apparent. Examining the trend in the top 3 crimes over a three-year period reveals a distinct pattern. It's important to highlight that Chicago labels Vandalism as Criminal Damage."
   ]
  },
  {
   "cell_type": "markdown",
   "id": "11cc1301-5435-4912-ba5b-86c231d08ef6",
   "metadata": {},
   "source": [
    "### Question 3: Utilize spatial analysis to identify and map crime hotspots in both cities, discerning areas with consistently high crime rates.\n",
    "\n",
    "In an attempt to answer this question I'd like to use a the coordinates from each dataset to build a heatmap displaying where crimes are at the heaviest.\n",
    "\n",
    "The code below creates seperate interactive heatmaps for Chicago and Los Angeles using Folium. It uses the HeatMap plugin to visualize the density of points."
   ]
  },
  {
   "cell_type": "code",
   "execution_count": 54,
   "id": "e0b9abaf-b176-42ac-88ec-c408ff805901",
   "metadata": {},
   "outputs": [],
   "source": [
    "# Chicago Map \n",
    "chicago_map = folium.Map(location=[41.8781, -87.6298], zoom_start=10)  # Chicago's coordinates \n",
    "\n",
    "# Add HeatMap layer for Chicago \n",
    "HeatMap(df_chi_la_combined[df_chi_la_combined['City'] == 'Chicago'][['Latitude', 'Longitude']].dropna(), radius=10).add_to(chicago_map) \n",
    "chicago_map.save(\"chicago_heatmap.html\") \n",
    "\n",
    "# Los Angeles Map \n",
    "la_map = folium.Map(location=[34.0522, -118.2437], zoom_start=10)  # LA's coordinates \n",
    "\n",
    "# Add HeatMap layer for Los Angeles \n",
    "HeatMap(df_chi_la_combined[df_chi_la_combined['City'] == 'Los Angeles'][['Latitude', 'Longitude']].dropna(), radius=10).add_to(la_map) \n",
    "la_map.save(\"la_heatmap.html\") "
   ]
  },
  {
   "cell_type": "markdown",
   "id": "e6511cd1-4616-4d90-a414-8ace8900847b",
   "metadata": {},
   "source": [
    "The code below creates an interactive embedded frame of Chicago directly in our Jupyter notebook."
   ]
  },
  {
   "cell_type": "code",
   "execution_count": 55,
   "id": "c6cd483d-e915-4a7c-ac62-d2c5bc356855",
   "metadata": {},
   "outputs": [
    {
     "data": {
      "text/html": [
       "\n",
       "        <iframe\n",
       "            width=\"800\"\n",
       "            height=\"600\"\n",
       "            src=\"chicago_heatmap.html\"\n",
       "            frameborder=\"0\"\n",
       "            allowfullscreen\n",
       "            \n",
       "        ></iframe>\n",
       "        "
      ],
      "text/plain": [
       "<IPython.lib.display.IFrame at 0x2ad146456d0>"
      ]
     },
     "execution_count": 55,
     "metadata": {},
     "output_type": "execute_result"
    }
   ],
   "source": [
    "# Display Chicago HeatMap \n",
    "chicago_map = folium.Map(location=[41.8781, -87.6298], zoom_start=10)  # Chicago's coordinates \n",
    "HeatMap(df_chi_la_combined[df_chi_la_combined['City'] == 'Chicago'][['Latitude', 'Longitude']].dropna(), radius=10).add_to(chicago_map) \n",
    "chicago_map.save(\"chicago_heatmap.html\") \n",
    "IFrame(\"chicago_heatmap.html\", width=800, height=600) "
   ]
  },
  {
   "cell_type": "markdown",
   "id": "efcad3b9-4d73-43d1-9276-febcfe36b819",
   "metadata": {},
   "source": [
    "The code below creates an interactive embedded frame of Los Angeles directly in our Jupyter notebook."
   ]
  },
  {
   "cell_type": "code",
   "execution_count": 56,
   "id": "e1b3f3a0-1ce4-4b5e-9435-3971b2445d64",
   "metadata": {},
   "outputs": [
    {
     "data": {
      "text/html": [
       "\n",
       "        <iframe\n",
       "            width=\"800\"\n",
       "            height=\"600\"\n",
       "            src=\"la_heatmap.html\"\n",
       "            frameborder=\"0\"\n",
       "            allowfullscreen\n",
       "            \n",
       "        ></iframe>\n",
       "        "
      ],
      "text/plain": [
       "<IPython.lib.display.IFrame at 0x2ad5b1c2d50>"
      ]
     },
     "execution_count": 56,
     "metadata": {},
     "output_type": "execute_result"
    }
   ],
   "source": [
    "# Display Los Angeles HeatMap \n",
    "la_map = folium.Map(location=[34.0522, -118.2437], zoom_start=10)  # LA's coordinates \n",
    "HeatMap(df_chi_la_combined[df_chi_la_combined['City'] == 'Los Angeles'][['Latitude', 'Longitude']].dropna(), radius=10).add_to(la_map) \n",
    "la_map.save(\"la_heatmap.html\") \n",
    "IFrame(\"la_heatmap.html\", width=800, height=600) "
   ]
  },
  {
   "cell_type": "markdown",
   "id": "1481fa55-ac2f-40b3-a3d5-7753d24d5b5e",
   "metadata": {},
   "source": [
    "Without diving in and familiarizing myself with both cities districts a lot more these maps almost serve more of a general location purpose. Perhaps someone familair with the areas could use these to to explore solutions for crimes."
   ]
  },
  {
   "cell_type": "markdown",
   "id": "d68eadc1-ff2b-4f4c-80e0-65d4cf1ec2ce",
   "metadata": {},
   "source": [
    "<a id='conclusions'></a>\n",
    "## Conclusion: \n",
    "\n",
    "This data analytics exploration into crime patterns in Chicago and Los Angeles unveils significant insights, providing a nuanced understanding of the dynamics within these two major cities. \n",
    "\n",
    "### Key Findings: \n",
    "\n",
    "**1. Crime Rate Comparison:** \n",
    "- Chicago consistently exhibited higher crime rates than Los Angeles up to 2023, with a notable surge in Los Angeles' crime rate during that period. \n",
    "\n",
    "**2. Trend Analysis:** \n",
    "- Despite discrepancies in crime type categorization, similarities in the top 10 crimes per city are apparent. Examining the trend in the top 3 crimes over a three-year period reveals distinct patterns. \n",
    "\n",
    "**3. Hotspots:** \n",
    "- Spatial analysis identified general crime locations; however, further exploration is needed to understand specific districts and formulate targeted interventions. \n",
    "\n",
    "### Methodology: \n",
    "\n",
    "By employing statistical analysis, data visualization, and spatial mapping, this analysis ensures a comprehensive exploration of crime data. Meticulous cleaning and standardization of datasets lay the groundwork for robust investigation. Time-series analysis, crime category trends, and hotspot mapping contribute actionable insights for public safety enhancement. \n",
    "\n",
    "### Significance: \n",
    "\n",
    "This project illuminates crime dynamics, offering a nuanced understanding of patterns and trends in diverse urban landscapes. Addressing specific objectives related to crime rate comparisons, trend analyses, and hotspot identification, the aim is to empower policymakers, law enforcement agencies, and communities to collaboratively work towards safer environments. \n",
    "\n",
    "Our commitment is rooted in delivering a data-driven analysis characterized by integrity, statistical rigor, and a dedication to uncovering insights that contribute to informed decision-making in matters of public safety and law enforcement. "
   ]
  },
  {
   "cell_type": "markdown",
   "id": "42b648d0-2fac-4e34-9e48-b82f3a5d5507",
   "metadata": {},
   "source": [
    "<a id='limits'></a>\n",
    "## Limitations\n",
    "\n",
    "### Limitation 1:"
   ]
  },
  {
   "cell_type": "markdown",
   "id": "d789438a-585d-4d18-9ddd-2f0d4db0176b",
   "metadata": {},
   "source": [
    "One limitation I encountered during the analysis was the Crime Type column in the Los Angeles dataframe. While exploring the Chicago dataset initially, I found consistency in the layout of crime types and descriptions. However, in the LA dataframe, crime types and descriptions were combined, and the structure wasn't as consistent as in the Chicago dataset. Due to limited time and resources, I made decisions based on minimal research to modify categories, aligning them with the Chicago dataframe for a more coherent analysis presentation. "
   ]
  },
  {
   "cell_type": "markdown",
   "id": "045c2671-1288-47e8-9efc-f8ae13db0f96",
   "metadata": {},
   "source": [
    "### Limitation 2:\n",
    "\n",
    "When comparing overall crimes in response to my initial question, I realized the need for population data as a third pillar in this project for a per capita comparison. To address this, I obtained population data directly from Census data. Given more time, it would be best practice to incorporate a third dataset containing Census data into the analysis. "
   ]
  },
  {
   "cell_type": "code",
   "execution_count": null,
   "id": "169e61f2-10c8-4ebf-a971-f1a6be92fee1",
   "metadata": {},
   "outputs": [],
   "source": []
  }
 ],
 "metadata": {
  "kernelspec": {
   "display_name": "Python 3 (ipykernel)",
   "language": "python",
   "name": "python3"
  },
  "language_info": {
   "codemirror_mode": {
    "name": "ipython",
    "version": 3
   },
   "file_extension": ".py",
   "mimetype": "text/x-python",
   "name": "python",
   "nbconvert_exporter": "python",
   "pygments_lexer": "ipython3",
   "version": "3.11.5"
  }
 },
 "nbformat": 4,
 "nbformat_minor": 5
}
